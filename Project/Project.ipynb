{
  "nbformat": 4,
  "nbformat_minor": 0,
  "metadata": {
    "colab": {
      "name": "Project.ipynb",
      "provenance": [],
      "collapsed_sections": []
    },
    "kernelspec": {
      "name": "python3",
      "display_name": "Python 3"
    }
  },
  "cells": [
    {
      "cell_type": "markdown",
      "metadata": {
        "id": "wbcMhw-hvHwY",
        "colab_type": "text"
      },
      "source": [
        "# Linear Regression\n",
        "In this task, first of all, we have to create a function that generates 100 random points on the plane. Second we have to run both pocket and linear regression algorithm to get weights. Third, we need to test the performance of both algorithms. \n",
        "To do that, we have to use minimization square root error, which is\n",
        "\n",
        "$\\underset{w}{min}\\sum\\limits_{n=1}^N[y_{n}-(w^{T}x_{n})]^2$\n",
        "\n",
        "\n"
      ]
    },
    {
      "cell_type": "code",
      "metadata": {
        "id": "zqWXg0krc932",
        "colab_type": "code",
        "colab": {}
      },
      "source": [
        "#Python libraries we need to use\n",
        "import numpy as np\n",
        "import matplotlib.pyplot as plt\n",
        "import random"
      ],
      "execution_count": 0,
      "outputs": []
    },
    {
      "cell_type": "code",
      "metadata": {
        "id": "o43tRFo6iUIk",
        "colab_type": "code",
        "colab": {}
      },
      "source": [
        "# Creating a dataset\n",
        "def dataset(size):\n",
        "  d = 2\n",
        "  w = np.random.randint(1,10,d)\n",
        "  b = np.random.randint(1,10) \n",
        "  x = np.random.uniform(-1,1,(size,d))*10\n",
        "  y = np.zeros(20)\n",
        "  #making a hypothesis line\n",
        "  h = x.dot(w) + b\n",
        "  labels = (h > 0)*1\n",
        "  flipping = np.random.randint(size, size=10)\n",
        "  #flipping indexes of randomly chosen 10 points N/10\n",
        "  for f in flipping:\n",
        "    if (labels[f] == 1):\n",
        "      labels[f] = 0\n",
        "    else:\n",
        "      labels[f] = 1\n",
        "  y = labels\n",
        "  return x, y, w, b"
      ],
      "execution_count": 0,
      "outputs": []
    },
    {
      "cell_type": "code",
      "metadata": {
        "id": "hQvqA3h6yiQK",
        "colab_type": "code",
        "colab": {}
      },
      "source": [
        "def finding_err(x, w, y):\n",
        "    err = 0.0\n",
        "    for i in range(len(x)):\n",
        "        ypred = np.dot(x[i],w)\n",
        "        if(ypred > 0 and y[i] == -1): \n",
        "            err += 1\n",
        "        elif(ypred <= 0 and y[i] == 1): \n",
        "            err += 1\n",
        "    mean = err/x.size \n",
        "    return mean"
      ],
      "execution_count": 0,
      "outputs": []
    },
    {
      "cell_type": "code",
      "metadata": {
        "id": "2JMmXLQE0fwg",
        "colab_type": "code",
        "colab": {}
      },
      "source": [
        "def pocket(x, y, w, iters): \n",
        "    \n",
        "    #updates\n",
        "    num_updates = [] \n",
        "    updates = 0\n",
        "    E = []\n",
        "    E_val=0.0\n",
        "    \n",
        "    #iterations\n",
        "    for it in range (iters):\n",
        "        \n",
        "        y_wrong = [] #saves indeces of the wrong predicted y\n",
        "        predict=[]\n",
        "        \n",
        "        for i in range(len(x)):\n",
        "            \n",
        "            if np.dot(x[i],w)>0:\n",
        "                predict.append(1)\n",
        "            else: predict.append(0)\n",
        "            \n",
        "            if predict[i] != y[i]:\n",
        "                y_wrong.append(i)\n",
        "                \n",
        "        #randomly choose the index of wrong classified x\n",
        "        pick = np.random.randint(len(y_wrong)) \n",
        "        \n",
        "        #new weight\n",
        "        weight = w + (y[pick]-predict[pick]) * x[pick]\n",
        "\n",
        "        E_old = finding_err(x, w, y)\n",
        "        E_new = finding_err(x, weight, y)\n",
        "\n",
        "        if (E_new < E_old): #compare old and new Error\n",
        "\n",
        "            E.append(E_new) \n",
        "            num_updates.append(updates)\n",
        "            updates += 1\n",
        "            w = np.copy(weight) #update weight to new weight\n",
        "            E_val=E_new\n",
        "    return w"
      ],
      "execution_count": 0,
      "outputs": []
    },
    {
      "cell_type": "code",
      "metadata": {
        "id": "UWOvy3ny4PdY",
        "colab_type": "code",
        "colab": {}
      },
      "source": [
        "def linear_reg(x, y):\n",
        "  y_new = y.reshape(len(y), 1)\n",
        "  inverse = np.linalg.inv(np.dot(x.T, x))\n",
        "  inv_x = np.dot(inverse, x.T)\n",
        "  w_lin = np.dot(inv_x, y_new)\n",
        "  return w_lin"
      ],
      "execution_count": 0,
      "outputs": []
    },
    {
      "cell_type": "code",
      "metadata": {
        "id": "xT6MDcA-Wxjs",
        "colab_type": "code",
        "colab": {}
      },
      "source": [
        "#Generating dataset with random 100 points\n",
        "x_train, y_train, x_test, y_test = dataset(100)"
      ],
      "execution_count": 0,
      "outputs": []
    },
    {
      "cell_type": "code",
      "metadata": {
        "id": "UxbqCorsXQrD",
        "colab_type": "code",
        "colab": {}
      },
      "source": [
        "#Running pocket algorithm\n",
        "w = np.zeros(2)\n",
        "T = 1000\n",
        "w_poc = pocket(x_train, y_train, w, T)"
      ],
      "execution_count": 0,
      "outputs": []
    },
    {
      "cell_type": "code",
      "metadata": {
        "id": "Os9nYI3zobqu",
        "colab_type": "code",
        "outputId": "d2d9e93d-8ba0-495f-81cc-3e89f621e666",
        "colab": {
          "base_uri": "https://localhost:8080/",
          "height": 53
        }
      },
      "source": [
        "w_lin=linear_reg(x_train, y_train)\n",
        "print ('Weights: ',w_lin)"
      ],
      "execution_count": 8,
      "outputs": [
        {
          "output_type": "stream",
          "text": [
            "Weights:  [[0.02486019]\n",
            " [0.04194516]]\n"
          ],
          "name": "stdout"
        }
      ]
    },
    {
      "cell_type": "code",
      "metadata": {
        "id": "kjyKr2b8oqPW",
        "colab_type": "code",
        "outputId": "93efbe45-aeff-4e91-e32d-1694183e983d",
        "colab": {
          "base_uri": "https://localhost:8080/",
          "height": 35
        }
      },
      "source": [
        "#Generating test dataset with 1000 points\n",
        "x_test, y_test, w_test, b_test=dataset(1000)\n",
        "\n",
        "E_pocket=finding_err(x_test, w_poc, y_test)\n",
        "E_pocket"
      ],
      "execution_count": 9,
      "outputs": [
        {
          "output_type": "execute_result",
          "data": {
            "text/plain": [
              "0.0575"
            ]
          },
          "metadata": {
            "tags": []
          },
          "execution_count": 9
        }
      ]
    },
    {
      "cell_type": "code",
      "metadata": {
        "id": "Z_tVoAGWpaya",
        "colab_type": "code",
        "outputId": "9807d6f5-d3b3-4e40-e031-9c48f6cb73d2",
        "colab": {
          "base_uri": "https://localhost:8080/",
          "height": 35
        }
      },
      "source": [
        "E_lin=finding_err(x_test, w_lin, y_test)\n",
        "E_lin"
      ],
      "execution_count": 10,
      "outputs": [
        {
          "output_type": "execute_result",
          "data": {
            "text/plain": [
              "0.041"
            ]
          },
          "metadata": {
            "tags": []
          },
          "execution_count": 10
        }
      ]
    },
    {
      "cell_type": "code",
      "metadata": {
        "id": "d22R4n74psq7",
        "colab_type": "code",
        "outputId": "7bf2a716-5e94-4c19-b2e3-4b41d42c94df",
        "colab": {
          "base_uri": "https://localhost:8080/",
          "height": 269
        }
      },
      "source": [
        "#New experiment\n",
        "x_new, y_new, w_new, b_new = dataset(1000)\n",
        "\n",
        "E_poc_new = np.zeros(100)\n",
        "E_lin_new = np.zeros(100)\n",
        "w_new = np.zeros(3)\n",
        "n = np.zeros(100)\n",
        "\n",
        "for i in range (100):\n",
        "    \n",
        "    E_poc_new[i]=finding_err(x_new, w_poc, y_new)\n",
        "    E_lin_new[i]=finding_err(x_new, w_lin, y_test)\n",
        "    \n",
        "    n[i]=i\n",
        "    \n",
        "plt.scatter(n,E_poc_new*100, label='Pocket')\n",
        "plt.scatter(n,E_lin_new*100, label=\"Linear Regression\")\n",
        "plt.legend()\n",
        "plt.show()"
      ],
      "execution_count": 11,
      "outputs": [
        {
          "output_type": "display_data",
          "data": {
            "image/png": "[encoded data removed]",
            "text/plain": [
              "<Figure size 432x288 with 1 Axes>"
            ]
          },
          "metadata": {
            "tags": []
          }
        }
      ]
    },
    {
      "cell_type": "markdown",
      "metadata": {
        "id": "bQJCLDvtr6uC",
        "colab_type": "text"
      },
      "source": [
        "From the above experiment we can clearly see that Pocket algorithm acts much better Linear Regression.\n",
        "However, linear regression works faster than pocket. Anyway both pocket and linear regression give small errors"
      ]
    },
    {
      "cell_type": "markdown",
      "metadata": {
        "id": "bNgYCUcqvr1L",
        "colab_type": "text"
      },
      "source": [
        "# Logistic Regression"
      ]
    },
    {
      "cell_type": "code",
      "metadata": {
        "id": "7OaVXDrrv1Cp",
        "colab_type": "code",
        "colab": {}
      },
      "source": [
        "from sklearn.datasets import load_iris\n",
        "import numpy as np\n",
        "import matplotlib.pyplot as plt\n",
        "import random\n",
        "iris = load_iris()"
      ],
      "execution_count": 0,
      "outputs": []
    },
    {
      "cell_type": "code",
      "metadata": {
        "id": "lzdK6gwyw7Aq",
        "colab_type": "code",
        "colab": {}
      },
      "source": [
        "def train_test_split(data):\n",
        "    x = iris.data\n",
        "    y = iris.target\n",
        "    \n",
        "    # random sampling\n",
        "    size = int(0.8*x.shape[0]) \n",
        "    train = random.sample(range(0,150),120)\n",
        "    x_train = x[train]\n",
        "    y_train = y[train]\n",
        "    \n",
        "    #get test by substracting train\n",
        "    test = list(set(range(0,150))-set(train)) \n",
        "    x_test = x[test]\n",
        "    y_test = y[test]\n",
        "\n",
        "    return x_train, y_train, x_test, y_test"
      ],
      "execution_count": 0,
      "outputs": []
    },
    {
      "cell_type": "code",
      "metadata": {
        "id": "rYCe7jWvy_m6",
        "colab_type": "code",
        "colab": {}
      },
      "source": [
        "x_train, y_train, x_test, y_test = train_test_split(iris)"
      ],
      "execution_count": 0,
      "outputs": []
    },
    {
      "cell_type": "code",
      "metadata": {
        "id": "-mZUxQlhzGz2",
        "colab_type": "code",
        "outputId": "6964da33-d01a-4401-d45d-857a857ab1a8",
        "colab": {
          "base_uri": "https://localhost:8080/",
          "height": 910
        }
      },
      "source": [
        "train_samp, d = x_train.shape\n",
        "test_samp = x_test.shape[0]\n",
        "\n",
        "train = random.sample(range(0,120),120)\n",
        "test = random.sample(range(0,30),30)\n",
        "\n",
        "#iters = 2000\n",
        "#iters = 0.001\n",
        "iters = 50\n",
        "lr = 0.0001\n",
        "\n",
        "weights = np.zeros(d+1)\n",
        "\n",
        "E_in = []\n",
        "E_test = []\n",
        "\n",
        "for it in range(iters):\n",
        "    E_ins = 0\n",
        "    for i in train:\n",
        "        ex_train = np.append(x_train[i],1)\n",
        "        cross_entropy_err = np.log(1+np.exp(-y_train[i]*2*np.dot(weights.T, ex_train)))\n",
        "        weights = weights + lr * cross_entropy_err\n",
        "        \n",
        "        E_ins += cross_entropy_err\n",
        "    E_in_ave = E_ins / train_samp\n",
        "    E_in.append(E_in_ave)\n",
        "    \n",
        "    E_tests = 0\n",
        "    for i in test:\n",
        "        ex_test = np.append(x_test[i],1)\n",
        "        cross_entropy_err = np.log(1+np.exp(-y_test[i]*2*np.dot(weights.T, ex_test)))\n",
        "        \n",
        "        E_tests += cross_entropy_err\n",
        "    E_test_ave = E_tests / test_samp\n",
        "    E_test.append(E_test_ave)\n",
        "    \n",
        "    print(\"EPOCH %d:\\tTrain error: %f\\t\\tTest error: %f\" % (it+1, E_in_ave, E_test_ave))"
      ],
      "execution_count": 15,
      "outputs": [
        {
          "output_type": "stream",
          "text": [
            "EPOCH 1:\tTrain error: 0.634817\t\tTest error: 0.582305\n",
            "EPOCH 2:\tTrain error: 0.537485\t\tTest error: 0.512243\n",
            "EPOCH 3:\tTrain error: 0.471527\t\tTest error: 0.466054\n",
            "EPOCH 4:\tTrain error: 0.424705\t\tTest error: 0.434350\n",
            "EPOCH 5:\tTrain error: 0.390075\t\tTest error: 0.411796\n",
            "EPOCH 6:\tTrain error: 0.363558\t\tTest error: 0.395247\n",
            "EPOCH 7:\tTrain error: 0.342659\t\tTest error: 0.382777\n",
            "EPOCH 8:\tTrain error: 0.325793\t\tTest error: 0.373162\n",
            "EPOCH 9:\tTrain error: 0.311910\t\tTest error: 0.365602\n",
            "EPOCH 10:\tTrain error: 0.300297\t\tTest error: 0.359553\n",
            "EPOCH 11:\tTrain error: 0.290448\t\tTest error: 0.354641\n",
            "EPOCH 12:\tTrain error: 0.281999\t\tTest error: 0.350599\n",
            "EPOCH 13:\tTrain error: 0.274682\t\tTest error: 0.347234\n",
            "EPOCH 14:\tTrain error: 0.268293\t\tTest error: 0.344404\n",
            "EPOCH 15:\tTrain error: 0.262675\t\tTest error: 0.342002\n",
            "EPOCH 16:\tTrain error: 0.257705\t\tTest error: 0.339945\n",
            "EPOCH 17:\tTrain error: 0.253286\t\tTest error: 0.338173\n",
            "EPOCH 18:\tTrain error: 0.249338\t\tTest error: 0.336635\n",
            "EPOCH 19:\tTrain error: 0.245798\t\tTest error: 0.335294\n",
            "EPOCH 20:\tTrain error: 0.242612\t\tTest error: 0.334116\n",
            "EPOCH 21:\tTrain error: 0.239736\t\tTest error: 0.333079\n",
            "EPOCH 22:\tTrain error: 0.237133\t\tTest error: 0.332161\n",
            "EPOCH 23:\tTrain error: 0.234772\t\tTest error: 0.331345\n",
            "EPOCH 24:\tTrain error: 0.232625\t\tTest error: 0.330618\n",
            "EPOCH 25:\tTrain error: 0.230669\t\tTest error: 0.329967\n",
            "EPOCH 26:\tTrain error: 0.228884\t\tTest error: 0.329384\n",
            "EPOCH 27:\tTrain error: 0.227253\t\tTest error: 0.328860\n",
            "EPOCH 28:\tTrain error: 0.225761\t\tTest error: 0.328388\n",
            "EPOCH 29:\tTrain error: 0.224393\t\tTest error: 0.327961\n",
            "EPOCH 30:\tTrain error: 0.223138\t\tTest error: 0.327575\n",
            "EPOCH 31:\tTrain error: 0.221986\t\tTest error: 0.327226\n",
            "EPOCH 32:\tTrain error: 0.220927\t\tTest error: 0.326909\n",
            "EPOCH 33:\tTrain error: 0.219953\t\tTest error: 0.326620\n",
            "EPOCH 34:\tTrain error: 0.219056\t\tTest error: 0.326358\n",
            "EPOCH 35:\tTrain error: 0.218229\t\tTest error: 0.326119\n",
            "EPOCH 36:\tTrain error: 0.217467\t\tTest error: 0.325901\n",
            "EPOCH 37:\tTrain error: 0.216764\t\tTest error: 0.325702\n",
            "EPOCH 38:\tTrain error: 0.216116\t\tTest error: 0.325520\n",
            "EPOCH 39:\tTrain error: 0.215517\t\tTest error: 0.325354\n",
            "EPOCH 40:\tTrain error: 0.214963\t\tTest error: 0.325202\n",
            "EPOCH 41:\tTrain error: 0.214451\t\tTest error: 0.325062\n",
            "EPOCH 42:\tTrain error: 0.213978\t\tTest error: 0.324934\n",
            "EPOCH 43:\tTrain error: 0.213541\t\tTest error: 0.324817\n",
            "EPOCH 44:\tTrain error: 0.213136\t\tTest error: 0.324710\n",
            "EPOCH 45:\tTrain error: 0.212761\t\tTest error: 0.324611\n",
            "EPOCH 46:\tTrain error: 0.212414\t\tTest error: 0.324521\n",
            "EPOCH 47:\tTrain error: 0.212093\t\tTest error: 0.324438\n",
            "EPOCH 48:\tTrain error: 0.211795\t\tTest error: 0.324361\n",
            "EPOCH 49:\tTrain error: 0.211519\t\tTest error: 0.324291\n",
            "EPOCH 50:\tTrain error: 0.211263\t\tTest error: 0.324226\n"
          ],
          "name": "stdout"
        }
      ]
    },
    {
      "cell_type": "code",
      "metadata": {
        "id": "bEYs5YqpBIuA",
        "colab_type": "code",
        "outputId": "cd612fe7-5f7e-43a1-e331-f9c3ddcad739",
        "colab": {
          "base_uri": "https://localhost:8080/",
          "height": 269
        }
      },
      "source": [
        "plt.plot(range(iters), E_in, label='Training')\n",
        "plt.plot(range(iters), E_test, label='Testing')\n",
        "plt.legend()\n",
        "plt.show()"
      ],
      "execution_count": 16,
      "outputs": [
        {
          "output_type": "display_data",
          "data": {
            "image/png": "[encoded data removed]",
            "text/plain": [
              "<Figure size 432x288 with 1 Axes>"
            ]
          },
          "metadata": {
            "tags": []
          }
        }
      ]
    },
    {
      "cell_type": "markdown",
      "metadata": {
        "id": "u1h2d0UeBpx8",
        "colab_type": "text"
      },
      "source": [
        "At T = 2000 and learning rate = 0.001 give awful results in our graph.\n",
        "In order to mitigate these values, learning rate = 0.0001 and T = 50, So that number of iterations and learning rate must decrease. Decreasing learning rate makes Logistic regression work slower, however, accuracy is much better. "
      ]
    },
    {
      "cell_type": "markdown",
      "metadata": {
        "id": "lWY_axAzCfIW",
        "colab_type": "text"
      },
      "source": [
        "# Practical design of a learning algorithm"
      ]
    },
    {
      "cell_type": "code",
      "metadata": {
        "id": "D1ZMqDeFClWV",
        "colab_type": "code",
        "outputId": "dd94f0fa-9fc9-417c-9b8e-3a77ff622cff",
        "colab": {
          "base_uri": "https://localhost:8080/",
          "height": 839
        }
      },
      "source": [
        "from sklearn import datasets\n",
        "digits = datasets.load_digits()\n",
        "print(digits.DESCR)"
      ],
      "execution_count": 17,
      "outputs": [
        {
          "output_type": "stream",
          "text": [
            ".. _digits_dataset:\n",
            "\n",
            "Optical recognition of handwritten digits dataset\n",
            "--------------------------------------------------\n",
            "\n",
            "**Data Set Characteristics:**\n",
            "\n",
            "    :Number of Instances: 5620\n",
            "    :Number of Attributes: 64\n",
            "    :Attribute Information: 8x8 image of integer pixels in the range 0..16.\n",
            "    :Missing Attribute Values: None\n",
            "    :Creator: E. Alpaydin (alpaydin '@' boun.edu.tr)\n",
            "    :Date: July; 1998\n",
            "\n",
            "This is a copy of the test set of the UCI ML hand-written digits datasets\n",
            "https://archive.ics.uci.edu/ml/datasets/Optical+Recognition+of+Handwritten+Digits\n",
            "\n",
            "The data set contains images of hand-written digits: 10 classes where\n",
            "each class refers to a digit.\n",
            "\n",
            "Preprocessing programs made available by NIST were used to extract\n",
            "normalized bitmaps of handwritten digits from a preprinted form. From a\n",
            "total of 43 people, 30 contributed to the training set and different 13\n",
            "to the test set. 32x32 bitmaps are divided into nonoverlapping blocks of\n",
            "4x4 and the number of on pixels are counted in each block. This generates\n",
            "an input matrix of 8x8 where each element is an integer in the range\n",
            "0..16. This reduces dimensionality and gives invariance to small\n",
            "distortions.\n",
            "\n",
            "For info on NIST preprocessing routines, see M. D. Garris, J. L. Blue, G.\n",
            "T. Candela, D. L. Dimmick, J. Geist, P. J. Grother, S. A. Janet, and C.\n",
            "L. Wilson, NIST Form-Based Handprint Recognition System, NISTIR 5469,\n",
            "1994.\n",
            "\n",
            ".. topic:: References\n",
            "\n",
            "  - C. Kaynak (1995) Methods of Combining Multiple Classifiers and Their\n",
            "    Applications to Handwritten Digit Recognition, MSc Thesis, Institute of\n",
            "    Graduate Studies in Science and Engineering, Bogazici University.\n",
            "  - E. Alpaydin, C. Kaynak (1998) Cascading Classifiers, Kybernetika.\n",
            "  - Ken Tang and Ponnuthurai N. Suganthan and Xi Yao and A. Kai Qin.\n",
            "    Linear dimensionalityreduction using relevance weighted LDA. School of\n",
            "    Electrical and Electronic Engineering Nanyang Technological University.\n",
            "    2005.\n",
            "  - Claudio Gentile. A New Approximate Maximal Margin Classification\n",
            "    Algorithm. NIPS. 2000.\n"
          ],
          "name": "stdout"
        }
      ]
    },
    {
      "cell_type": "code",
      "metadata": {
        "id": "VFU7TSSXDag4",
        "colab_type": "code",
        "colab": {}
      },
      "source": [
        "x = digits.data\n",
        "y = digits.target"
      ],
      "execution_count": 0,
      "outputs": []
    },
    {
      "cell_type": "code",
      "metadata": {
        "id": "jFR3PaS7E5dF",
        "colab_type": "code",
        "colab": {}
      },
      "source": [
        "def finding_linerr(x, w, y):\n",
        "    err = np.dot(y.T,y)-2*np.dot(w.T, np.dot(x.T,y))+np.dot(np.dot(w.T, x.T), np.dot(x,w))\n",
        "    return err"
      ],
      "execution_count": 0,
      "outputs": []
    },
    {
      "cell_type": "code",
      "metadata": {
        "id": "SJtWq1EFGKgR",
        "colab_type": "code",
        "colab": {}
      },
      "source": [
        "def lin_reg(x_train, x_test, y_train, y_test):\n",
        "    w = np.linalg.pinv(x_train.T.dot(x_train)).dot(x_train.T).dot(y_train)   \n",
        "    return finding_linerr(x_test, w, y_test)"
      ],
      "execution_count": 0,
      "outputs": []
    },
    {
      "cell_type": "code",
      "metadata": {
        "id": "z2X3WX7bHBeR",
        "colab_type": "code",
        "colab": {}
      },
      "source": [
        "def log_reg(x_train, x_test, y_train, y_test):\n",
        "    train_samp, d = x_train.shape\n",
        "    test_samp = x_test.shape[0]\n",
        "\n",
        "    train = random.sample(range(0,120),120)\n",
        "    test = random.sample(range(0,30),30)\n",
        "\n",
        "    #iters = 2000\n",
        "    #iters = 0.001\n",
        "    iters = 50\n",
        "    lr = 0.0001\n",
        "\n",
        "    weights = np.zeros(d+1)\n",
        "\n",
        "    E_in = []\n",
        "    E_test = []\n",
        "    \n",
        "    for it in range(iters):\n",
        "        E_ins = 0\n",
        "        for i in train:\n",
        "          ex_train = np.append(x_train[i],1)\n",
        "          cross_entropy_err = np.log(1+np.exp(-y_train[i]*2*np.dot(weights.T, ex_train)))\n",
        "          weights = weights + lr * cross_entropy_err\n",
        "        \n",
        "          E_ins += cross_entropy_err\n",
        "        E_in_ave = E_ins / train_samp\n",
        "        E_in.append(E_in_ave)\n",
        "      \n",
        "        E_tests = 0\n",
        "        for i in test:\n",
        "          ex_test = np.append(x_test[i],1)\n",
        "          cross_entropy_err = np.log(1+np.exp(-y_test[i]*2*np.dot(weights.T, ex_test)))\n",
        "        \n",
        "        E_tests += cross_entropy_err\n",
        "        E_test_ave = E_tests / test_samp\n",
        "        E_test.append(E_test_ave)\n",
        "\n",
        "    return E_test_ave"
      ],
      "execution_count": 0,
      "outputs": []
    },
    {
      "cell_type": "code",
      "metadata": {
        "id": "cCvpBi0aKm2a",
        "colab_type": "code",
        "colab": {}
      },
      "source": [
        "def spliting(x, y, folds):\n",
        "    #size\n",
        "    size = int(x.shape[0] / folds)\n",
        "    folds_dict = {}\n",
        "    x_list = []\n",
        "    y_list = []\n",
        "    \n",
        "    #iteration via each fold\n",
        "    for i in range(folds-1):\n",
        "        x_fold = x[size*i : size*i+size]\n",
        "        y_fold = y[size*i : size*i+size]\n",
        "        x_list.append(x_fold)\n",
        "        y_list.append(y_fold)\n",
        "   \n",
        "    #the data that left\n",
        "    x_fold = x[size*(folds-1):]\n",
        "    y_fold = y[size*(folds-1):]\n",
        "    x_list.append(x_fold)\n",
        "    y_list.append(y_fold)\n",
        "    \n",
        "    folds_dict['x'] = x_list\n",
        "    folds_dict['y'] = y_list\n",
        "    \n",
        "    return folds_dict"
      ],
      "execution_count": 0,
      "outputs": []
    },
    {
      "cell_type": "code",
      "metadata": {
        "id": "H8z2yam0MdWO",
        "colab_type": "code",
        "colab": {}
      },
      "source": [
        "def estimate_lin_log(folds):\n",
        "  x_folds = np.array(folds['x'])\n",
        "  y_folds = np.array(folds['y'])\n",
        "\n",
        "  E_linear = []\n",
        "  E_logistic = []\n",
        "\n",
        "  for num in range(len(folds['x'])):\n",
        "      x_test = x_folds[num]\n",
        "      y_test = y_folds[num]\n",
        "\n",
        "      x_temp = np.delete(x_folds, num)\n",
        "      y_temp = np.delete(y_folds, num)\n",
        "\n",
        "      x_train = np.concatenate([x_temp[0]])\n",
        "      for i in range(1,len(x_temp)):\n",
        "          x_train = np.concatenate([x_train, x_temp[i]])\n",
        "\n",
        "      y_train = np.concatenate([y_temp[0]])\n",
        "      for i in range(1,len(y_temp)):\n",
        "          y_train = np.concatenate([y_train, y_temp[i]])\n",
        "        \n",
        "      E_lin = lin_reg(x_train, x_test, y_train, y_test)\n",
        "      E_linear.append(E_lin)\n",
        "    \n",
        "      E_log = log_reg(x_train, x_test, y_train, y_test)\n",
        "      E_logistic.append(E_log)\n",
        "      \n",
        "  \n",
        "      return E_linear, E_logistic"
      ],
      "execution_count": 0,
      "outputs": []
    },
    {
      "cell_type": "code",
      "metadata": {
        "id": "oNf6NfFpOJyI",
        "colab_type": "code",
        "outputId": "2a744a07-df21-4816-a5bc-6ec5cb3857b5",
        "colab": {
          "base_uri": "https://localhost:8080/",
          "height": 35
        }
      },
      "source": [
        "#10 folds cross validation\n",
        "folds = spliting(x, y, 10)\n",
        "estimate = estimate_lin_log(folds)\n",
        "estimate"
      ],
      "execution_count": 24,
      "outputs": [
        {
          "output_type": "execute_result",
          "data": {
            "text/plain": [
              "([962.5138101227963], [0.003872330617653326])"
            ]
          },
          "metadata": {
            "tags": []
          },
          "execution_count": 24
        }
      ]
    },
    {
      "cell_type": "markdown",
      "metadata": {
        "id": "iSlCdcbmPRwy",
        "colab_type": "text"
      },
      "source": [
        "As we can see from the values of linear and logistic, logistic regression acts much better, and its error value near to 0 while Linear Regression shows much higher value almost 1000"
      ]
    },
    {
      "cell_type": "code",
      "metadata": {
        "id": "weYDnD57P_Rz",
        "colab_type": "code",
        "outputId": "5a0772cd-c698-4002-854d-18b88fbdf2c3",
        "colab": {
          "base_uri": "https://localhost:8080/",
          "height": 35
        }
      },
      "source": [
        "#5 fold cross validation\n",
        "folds = spliting(x, y, 5)\n",
        "estimate = estimate_lin_log(folds)\n",
        "estimate"
      ],
      "execution_count": 25,
      "outputs": [
        {
          "output_type": "execute_result",
          "data": {
            "text/plain": [
              "([1574.5211666107234], [4.194725656268603e-15])"
            ]
          },
          "metadata": {
            "tags": []
          },
          "execution_count": 25
        }
      ]
    },
    {
      "cell_type": "code",
      "metadata": {
        "id": "96tqz4sXRP5b",
        "colab_type": "code",
        "outputId": "6e34b1c8-24de-4f23-a722-cdc667ff3f33",
        "colab": {
          "base_uri": "https://localhost:8080/",
          "height": 35
        }
      },
      "source": [
        "#20 fold cross validation\n",
        "folds = spliting(x, y, 20)\n",
        "estimate = estimate_lin_log(folds)\n",
        "estimate"
      ],
      "execution_count": 26,
      "outputs": [
        {
          "output_type": "execute_result",
          "data": {
            "text/plain": [
              "([393.75064930675194], [0.0])"
            ]
          },
          "metadata": {
            "tags": []
          },
          "execution_count": 26
        }
      ]
    },
    {
      "cell_type": "code",
      "metadata": {
        "id": "mzwlk9AlSeK1",
        "colab_type": "code",
        "outputId": "035b28ef-b754-497f-ef14-2bb3c9171ca7",
        "colab": {
          "base_uri": "https://localhost:8080/",
          "height": 35
        }
      },
      "source": [
        "#1 fold cross validation\n",
        "folds = spliting(x, y, 2)\n",
        "estimate = estimate_lin_log(folds)\n",
        "estimate"
      ],
      "execution_count": 27,
      "outputs": [
        {
          "output_type": "execute_result",
          "data": {
            "text/plain": [
              "([3619.467132699672], [0.0])"
            ]
          },
          "metadata": {
            "tags": []
          },
          "execution_count": 27
        }
      ]
    },
    {
      "cell_type": "markdown",
      "metadata": {
        "id": "nfiWMHS4RxNq",
        "colab_type": "text"
      },
      "source": [
        "As we can see, changing the number of folds are changes the errors of linear regression, however logistic regression stays same with 0."
      ]
    }
  ]
}