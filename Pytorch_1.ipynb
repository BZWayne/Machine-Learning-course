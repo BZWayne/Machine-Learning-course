{
  "nbformat": 4,
  "nbformat_minor": 0,
  "metadata": {
    "kernelspec": {
      "name": "python3",
      "display_name": "Python 3"
    },
    "language_info": {
      "codemirror_mode": {
        "name": "ipython",
        "version": 3
      },
      "file_extension": ".py",
      "mimetype": "text/x-python",
      "name": "python",
      "nbconvert_exporter": "python",
      "pygments_lexer": "ipython3",
      "version": "3.6.6"
    },
    "colab": {
      "name": "Pytorch_1.ipynb",
      "provenance": []
    }
  },
  "cells": [
    {
      "cell_type": "markdown",
      "metadata": {
        "id": "_1U8Op5F7LMQ",
        "colab_type": "text"
      },
      "source": [
        "# Credits\n",
        "\n",
        "This is heavily influenced or copied from https://github.com/pytorch/tutorials \n",
        "and 02456 deep learning with Pytorch\n"
      ]
    },
    {
      "cell_type": "markdown",
      "metadata": {
        "id": "VYUOu0Sw7LMd",
        "colab_type": "text"
      },
      "source": [
        "# What is PyTorch?\n",
        "\n",
        "\n",
        "It’s a Python based scientific computing package targeted at two sets of\n",
        "audiences:\n",
        "-  A replacement for numpy to use the power of GPUs\n",
        "-  a deep learning research platform that provides maximum flexibility\n",
        "   and speed\n",
        "https://www.youtube.com/playlist?list=PLZbbT5o_s2xrfNyHZsM6ufI0iZENK9xgG"
      ]
    },
    {
      "cell_type": "markdown",
      "metadata": {
        "id": "009pAdRA7LMe",
        "colab_type": "text"
      },
      "source": [
        "### Director of AI at Tesla\n",
        "\n",
        "![Andrei-Karpathy](https://www.dropbox.com/s/dt2vvxafq1owehy/andrei-karpathy.png?dl=1)"
      ]
    },
    {
      "cell_type": "code",
      "metadata": {
        "id": "3azO2UCL7LMf",
        "colab_type": "code",
        "outputId": "e8e1536e-38b5-465f-e19a-1a35031d38d8",
        "colab": {
          "base_uri": "https://localhost:8080/",
          "height": 336
        }
      },
      "source": [
        "from IPython.display import HTML\n",
        "HTML('<iframe width=\"560\" height=\"315\" src=\"https://www.youtube.com/embed/v5cngxo4mIg\" frameborder=\"0\" allow=\"accelerometer; autoplay; encrypted-media; gyroscope; picture-in-picture\" allowfullscreen></iframe>')"
      ],
      "execution_count": 1,
      "outputs": [
        {
          "output_type": "execute_result",
          "data": {
            "text/html": [
              "<iframe width=\"560\" height=\"315\" src=\"https://www.youtube.com/embed/v5cngxo4mIg\" frameborder=\"0\" allow=\"accelerometer; autoplay; encrypted-media; gyroscope; picture-in-picture\" allowfullscreen></iframe>"
            ],
            "text/plain": [
              "<IPython.core.display.HTML object>"
            ]
          },
          "metadata": {
            "tags": []
          },
          "execution_count": 1
        }
      ]
    },
    {
      "cell_type": "markdown",
      "metadata": {
        "id": "WNgsXjt87LMi",
        "colab_type": "text"
      },
      "source": [
        "# Getting Started\n",
        "\n",
        "In this notebook you will get a quick start on what pytorch is and how to use it.\n",
        "\n",
        "## 1. Tensors\n",
        "\n",
        "Tensors are similar to numpy’s ndarrays, with the addition being that\n",
        "Tensors can also be used on a GPU to accelerate computing."
      ]
    },
    {
      "cell_type": "code",
      "metadata": {
        "id": "Y64Idoar7LMu",
        "colab_type": "code",
        "colab": {}
      },
      "source": [
        "import torch"
      ],
      "execution_count": 0,
      "outputs": []
    },
    {
      "cell_type": "markdown",
      "metadata": {
        "id": "kZmanJFp7LMy",
        "colab_type": "text"
      },
      "source": [
        "Construct a 5x3 matrix, uninitialized"
      ]
    },
    {
      "cell_type": "code",
      "metadata": {
        "scrolled": false,
        "id": "YuSLa8oI7LMz",
        "colab_type": "code",
        "outputId": "87154a71-c4de-4a3c-b8ed-8bbb722fcf00",
        "colab": {
          "base_uri": "https://localhost:8080/",
          "height": 102
        }
      },
      "source": [
        "x = torch.Tensor(5, 3)\n",
        "print(x)"
      ],
      "execution_count": 3,
      "outputs": [
        {
          "output_type": "stream",
          "text": [
            "tensor([[9.8722e-37, 0.0000e+00, 3.7835e-44],\n",
            "        [0.0000e+00,        nan, 1.8831e+28],\n",
            "        [1.3733e-14, 6.4069e+02, 4.3066e+21],\n",
            "        [1.1824e+22, 4.3066e+21, 6.3828e+28],\n",
            "        [3.8016e-39, 2.1669e-04, 0.0000e+00]])\n"
          ],
          "name": "stdout"
        }
      ]
    },
    {
      "cell_type": "markdown",
      "metadata": {
        "id": "J2zcJoPR7LM8",
        "colab_type": "text"
      },
      "source": [
        "Construct a randomly initialized matrix"
      ]
    },
    {
      "cell_type": "code",
      "metadata": {
        "id": "UcTSw8Dz7LM9",
        "colab_type": "code",
        "outputId": "66729d90-c25f-4b7c-e39f-f9415d9c17cd",
        "colab": {
          "base_uri": "https://localhost:8080/",
          "height": 102
        }
      },
      "source": [
        "x = torch.rand(5, 3)\n",
        "print(x)"
      ],
      "execution_count": 4,
      "outputs": [
        {
          "output_type": "stream",
          "text": [
            "tensor([[0.4357, 0.6150, 0.1306],\n",
            "        [0.2886, 0.7342, 0.3281],\n",
            "        [0.1957, 0.8195, 0.6808],\n",
            "        [0.6098, 0.1385, 0.1218],\n",
            "        [0.9411, 0.9788, 0.7129]])\n"
          ],
          "name": "stdout"
        }
      ]
    },
    {
      "cell_type": "markdown",
      "metadata": {
        "id": "JmcWU0Zm7LNf",
        "colab_type": "text"
      },
      "source": [
        "Get its size"
      ]
    },
    {
      "cell_type": "code",
      "metadata": {
        "id": "JCHePxFJ7LNg",
        "colab_type": "code",
        "outputId": "3159a390-420b-4a0d-d78f-8f86c7b84647",
        "colab": {
          "base_uri": "https://localhost:8080/",
          "height": 34
        }
      },
      "source": [
        "print(x.size())"
      ],
      "execution_count": 5,
      "outputs": [
        {
          "output_type": "stream",
          "text": [
            "torch.Size([5, 3])\n"
          ],
          "name": "stdout"
        }
      ]
    },
    {
      "cell_type": "markdown",
      "metadata": {
        "id": "zxrEdRnt7LNi",
        "colab_type": "text"
      },
      "source": [
        "**NOTE** `torch.Size` is in fact a tuple, so it supports the same operations"
      ]
    },
    {
      "cell_type": "code",
      "metadata": {
        "id": "vCWm41nQ7LNi",
        "colab_type": "code",
        "outputId": "7f89009c-12a8-4f9d-8b38-5b0ecc31d083",
        "colab": {
          "base_uri": "https://localhost:8080/",
          "height": 102
        }
      },
      "source": [
        "x[1:3] = 22\n",
        "print(x)"
      ],
      "execution_count": 6,
      "outputs": [
        {
          "output_type": "stream",
          "text": [
            "tensor([[ 0.4357,  0.6150,  0.1306],\n",
            "        [22.0000, 22.0000, 22.0000],\n",
            "        [22.0000, 22.0000, 22.0000],\n",
            "        [ 0.6098,  0.1385,  0.1218],\n",
            "        [ 0.9411,  0.9788,  0.7129]])\n"
          ],
          "name": "stdout"
        }
      ]
    },
    {
      "cell_type": "markdown",
      "metadata": {
        "id": "Mqe8yEax7LNk",
        "colab_type": "text"
      },
      "source": [
        "# Assignment\n",
        "\n",
        "1. Make a tensor of size (2, 17)\n",
        "2. Make a torch.FloatTensor of size (3, 1)\n",
        "3. Make a torch.LongTensor of size (5, 2, 1)\n",
        "  - fill the entire tensor with 7s\n",
        "4. Make a torch.ByteTensor of size (5,)\n",
        "  - fill the middle 3 indices with ones such that it records [0, 1, 1, 1, 0]"
      ]
    },
    {
      "cell_type": "code",
      "metadata": {
        "id": "gCaIywXC7LNk",
        "colab_type": "code",
        "outputId": "44c6cd35-6768-4aae-bdd3-9a91926cd55a",
        "colab": {
          "base_uri": "https://localhost:8080/",
          "height": 119
        }
      },
      "source": [
        "torch.Tensor(2, 17)"
      ],
      "execution_count": 7,
      "outputs": [
        {
          "output_type": "execute_result",
          "data": {
            "text/plain": [
              "tensor([[9.5202e-38, 0.0000e+00, 1.9338e-43, 0.0000e+00, 0.0000e+00, 0.0000e+00,\n",
              "         0.0000e+00, 0.0000e+00, 0.0000e+00, 0.0000e+00, 7.0295e+28, 6.1949e-04,\n",
              "         3.9177e-02, 4.7429e+30, 3.4545e+30, 1.2680e-14, 3.7293e-08],\n",
              "        [2.9508e+29, 7.5556e+31, 2.2967e-18, 1.8371e+25, 7.5551e+31, 2.6543e+20,\n",
              "         3.2607e-12, 7.1856e+22, 2.8405e+20, 1.0395e+21, 3.2986e-18, 3.1457e-12,\n",
              "         7.5654e+28, 4.2198e+24, 7.5654e+28, 6.1979e-04, 7.2443e+22]])"
            ]
          },
          "metadata": {
            "tags": []
          },
          "execution_count": 7
        }
      ]
    },
    {
      "cell_type": "code",
      "metadata": {
        "id": "CZ70T9cX7oTA",
        "colab_type": "code",
        "outputId": "10d8e9ae-aff5-497a-c061-8179f7090e88",
        "colab": {
          "base_uri": "https://localhost:8080/",
          "height": 68
        }
      },
      "source": [
        "torch.FloatTensor(3, 1)"
      ],
      "execution_count": 8,
      "outputs": [
        {
          "output_type": "execute_result",
          "data": {
            "text/plain": [
              "tensor([[9.8724e-37],\n",
              "        [0.0000e+00],\n",
              "        [4.4842e-44]])"
            ]
          },
          "metadata": {
            "tags": []
          },
          "execution_count": 8
        }
      ]
    },
    {
      "cell_type": "code",
      "metadata": {
        "id": "CL2oqhxD7rAK",
        "colab_type": "code",
        "outputId": "bea516e4-3daa-436f-b09a-10658ae7d51a",
        "colab": {
          "base_uri": "https://localhost:8080/",
          "height": 255
        }
      },
      "source": [
        "x = torch.LongTensor(5, 2, 1)\n",
        "x[:] = 7\n",
        "x"
      ],
      "execution_count": 9,
      "outputs": [
        {
          "output_type": "execute_result",
          "data": {
            "text/plain": [
              "tensor([[[7],\n",
              "         [7]],\n",
              "\n",
              "        [[7],\n",
              "         [7]],\n",
              "\n",
              "        [[7],\n",
              "         [7]],\n",
              "\n",
              "        [[7],\n",
              "         [7]],\n",
              "\n",
              "        [[7],\n",
              "         [7]]])"
            ]
          },
          "metadata": {
            "tags": []
          },
          "execution_count": 9
        }
      ]
    },
    {
      "cell_type": "code",
      "metadata": {
        "id": "Z7OTKwe37urs",
        "colab_type": "code",
        "outputId": "e2342db3-dcdb-469f-80ca-1bf73f46499c",
        "colab": {
          "base_uri": "https://localhost:8080/",
          "height": 102
        }
      },
      "source": [
        "x = torch.ByteTensor(5, 3)\n",
        "x[1:4] = 1\n",
        "x"
      ],
      "execution_count": 10,
      "outputs": [
        {
          "output_type": "execute_result",
          "data": {
            "text/plain": [
              "tensor([[192, 248, 167],\n",
              "        [  1,   1,   1],\n",
              "        [  1,   1,   1],\n",
              "        [  1,   1,   1],\n",
              "        [  0,   0,   0]], dtype=torch.uint8)"
            ]
          },
          "metadata": {
            "tags": []
          },
          "execution_count": 10
        }
      ]
    },
    {
      "cell_type": "markdown",
      "metadata": {
        "id": "HPKas6y27LNl",
        "colab_type": "text"
      },
      "source": [
        "-----------------\n",
        "## 2. Operations\n",
        "There are multiple syntaxes for operations. Let's see addition as an example:\n",
        "\n",
        "### 2.1 Addition: syntax 1"
      ]
    },
    {
      "cell_type": "code",
      "metadata": {
        "id": "hJiC8Q5C7LNm",
        "colab_type": "code",
        "outputId": "de74e384-fc1a-43f3-b3cf-aa8af8c9de48",
        "colab": {
          "base_uri": "https://localhost:8080/",
          "height": 102
        }
      },
      "source": [
        "y = torch.rand(5, 3)\n",
        "print(x + y)"
      ],
      "execution_count": 11,
      "outputs": [
        {
          "output_type": "stream",
          "text": [
            "tensor([[192.1438, 248.8305, 167.8231],\n",
            "        [  1.3999,   1.8537,   1.3224],\n",
            "        [  1.0969,   1.3218,   1.2653],\n",
            "        [  1.5399,   1.5938,   1.0125],\n",
            "        [  0.8048,   0.4866,   0.4585]])\n"
          ],
          "name": "stdout"
        }
      ]
    },
    {
      "cell_type": "markdown",
      "metadata": {
        "id": "qobytpP97LOn",
        "colab_type": "text"
      },
      "source": [
        "### 2.2 Addition: syntax 2"
      ]
    },
    {
      "cell_type": "code",
      "metadata": {
        "id": "PNO7huQ07LOn",
        "colab_type": "code",
        "outputId": "6f54d675-9775-49ad-809e-ac834e4c1d3b",
        "colab": {
          "base_uri": "https://localhost:8080/",
          "height": 102
        }
      },
      "source": [
        "print(torch.add(x, y))"
      ],
      "execution_count": 12,
      "outputs": [
        {
          "output_type": "stream",
          "text": [
            "tensor([[192.1438, 248.8305, 167.8231],\n",
            "        [  1.3999,   1.8537,   1.3224],\n",
            "        [  1.0969,   1.3218,   1.2653],\n",
            "        [  1.5399,   1.5938,   1.0125],\n",
            "        [  0.8048,   0.4866,   0.4585]])\n"
          ],
          "name": "stdout"
        }
      ]
    },
    {
      "cell_type": "markdown",
      "metadata": {
        "id": "daU8PRms7LOp",
        "colab_type": "text"
      },
      "source": [
        "### 2.3 Addition: giving an output tensor"
      ]
    },
    {
      "cell_type": "code",
      "metadata": {
        "id": "tr7I6na67LOp",
        "colab_type": "code",
        "outputId": "794478ff-db0d-4346-a5c4-5f75eed50d39",
        "colab": {
          "base_uri": "https://localhost:8080/",
          "height": 102
        }
      },
      "source": [
        "result = torch.Tensor(5, 3)\n",
        "\n",
        "torch.add(x, y, out = result)\n",
        "\n",
        "print(result)"
      ],
      "execution_count": 13,
      "outputs": [
        {
          "output_type": "stream",
          "text": [
            "tensor([[192.1438, 248.8305, 167.8231],\n",
            "        [  1.3999,   1.8537,   1.3224],\n",
            "        [  1.0969,   1.3218,   1.2653],\n",
            "        [  1.5399,   1.5938,   1.0125],\n",
            "        [  0.8048,   0.4866,   0.4585]])\n"
          ],
          "name": "stdout"
        }
      ]
    },
    {
      "cell_type": "markdown",
      "metadata": {
        "id": "Uw_O48Sy7LOq",
        "colab_type": "text"
      },
      "source": [
        "### 2.4 Addition: in-place\n",
        "\n",
        "adds `x`to `y`"
      ]
    },
    {
      "cell_type": "code",
      "metadata": {
        "id": "qICEFMn07LOr",
        "colab_type": "code",
        "outputId": "74a3f873-cdd9-4da9-a9e6-a21419787dd8",
        "colab": {
          "base_uri": "https://localhost:8080/",
          "height": 102
        }
      },
      "source": [
        "y.add_(x)\n",
        "print(y)"
      ],
      "execution_count": 14,
      "outputs": [
        {
          "output_type": "stream",
          "text": [
            "tensor([[192.1438, 248.8305, 167.8231],\n",
            "        [  1.3999,   1.8537,   1.3224],\n",
            "        [  1.0969,   1.3218,   1.2653],\n",
            "        [  1.5399,   1.5938,   1.0125],\n",
            "        [  0.8048,   0.4866,   0.4585]])\n"
          ],
          "name": "stdout"
        }
      ]
    },
    {
      "cell_type": "markdown",
      "metadata": {
        "id": "erZGE_u-7LPf",
        "colab_type": "text"
      },
      "source": [
        "**NOTE** Any operation that mutates a tensor in-place is post-fixed with an `_`. For example: `x.copy_(y)`, `x.t_()`, will change `x`."
      ]
    },
    {
      "cell_type": "markdown",
      "metadata": {
        "id": "7dRXLJ7-7LPf",
        "colab_type": "text"
      },
      "source": [
        "You can use standard numpy-like indexing with all bells and whistles!"
      ]
    },
    {
      "cell_type": "code",
      "metadata": {
        "id": "K1-cJ3bB7LPg",
        "colab_type": "code",
        "outputId": "d8bbcee6-bed1-4811-cd2b-3fa400406aff",
        "colab": {
          "base_uri": "https://localhost:8080/",
          "height": 34
        }
      },
      "source": [
        "print(x[:, 1])"
      ],
      "execution_count": 15,
      "outputs": [
        {
          "output_type": "stream",
          "text": [
            "tensor([248,   1,   1,   1,   0], dtype=torch.uint8)\n"
          ],
          "name": "stdout"
        }
      ]
    },
    {
      "cell_type": "markdown",
      "metadata": {
        "id": "AahwSaHl7LPu",
        "colab_type": "text"
      },
      "source": [
        "**Read later** 100+ Tensor operations, including transposing, indexing, slicing, mathematical operations, linear algebra, random numbers, etc are described here <http://pytorch.org/docs/torch>"
      ]
    },
    {
      "cell_type": "markdown",
      "metadata": {
        "id": "644YhtlH7LPv",
        "colab_type": "text"
      },
      "source": [
        "# Assignment\n",
        "\n",
        "1. multiply of two tensors (see [torch.Tensor.mul](http://pytorch.org/docs/master/tensors.html#torch.Tensor.mul))\n",
        "2. do the same, but inplace\n",
        "3. division of two tensors (see [torch.Tensor.div](http://pytorch.org/docs/master/tensors.html#torch.Tensor.div))\n",
        "4. perform a matrix multiplication of two tensors of size (2, 4) and (4, 2)"
      ]
    },
    {
      "cell_type": "code",
      "metadata": {
        "id": "l6BQQi2f8_WS",
        "colab_type": "code",
        "colab": {
          "base_uri": "https://localhost:8080/",
          "height": 102
        },
        "outputId": "c78dd382-9583-46c1-dbc4-162b0c85e74b"
      },
      "source": [
        "torch.mul(x, y)"
      ],
      "execution_count": 16,
      "outputs": [
        {
          "output_type": "execute_result",
          "data": {
            "text/plain": [
              "tensor([[3.6892e+04, 6.1710e+04, 2.8026e+04],\n",
              "        [1.3999e+00, 1.8537e+00, 1.3224e+00],\n",
              "        [1.0969e+00, 1.3218e+00, 1.2653e+00],\n",
              "        [1.5399e+00, 1.5938e+00, 1.0125e+00],\n",
              "        [0.0000e+00, 0.0000e+00, 0.0000e+00]])"
            ]
          },
          "metadata": {
            "tags": []
          },
          "execution_count": 16
        }
      ]
    },
    {
      "cell_type": "code",
      "metadata": {
        "id": "_A-dXQ719CBp",
        "colab_type": "code",
        "colab": {
          "base_uri": "https://localhost:8080/",
          "height": 102
        },
        "outputId": "4f6e1c8b-1936-41bd-a935-af6b8f3bf23d"
      },
      "source": [
        "y.mul_(x)"
      ],
      "execution_count": 17,
      "outputs": [
        {
          "output_type": "execute_result",
          "data": {
            "text/plain": [
              "tensor([[3.6892e+04, 6.1710e+04, 2.8026e+04],\n",
              "        [1.3999e+00, 1.8537e+00, 1.3224e+00],\n",
              "        [1.0969e+00, 1.3218e+00, 1.2653e+00],\n",
              "        [1.5399e+00, 1.5938e+00, 1.0125e+00],\n",
              "        [0.0000e+00, 0.0000e+00, 0.0000e+00]])"
            ]
          },
          "metadata": {
            "tags": []
          },
          "execution_count": 17
        }
      ]
    },
    {
      "cell_type": "code",
      "metadata": {
        "id": "4qWWGh629FJa",
        "colab_type": "code",
        "colab": {
          "base_uri": "https://localhost:8080/",
          "height": 102
        },
        "outputId": "01ee4a3e-5aee-43a4-afb3-497760e1178c"
      },
      "source": [
        "torch.div(x, y)"
      ],
      "execution_count": 18,
      "outputs": [
        {
          "output_type": "execute_result",
          "data": {
            "text/plain": [
              "tensor([[0.0052, 0.0040, 0.0060],\n",
              "        [0.7143, 0.5394, 0.7562],\n",
              "        [0.9117, 0.7566, 0.7903],\n",
              "        [0.6494, 0.6274, 0.9877],\n",
              "        [   nan,    nan,    nan]])"
            ]
          },
          "metadata": {
            "tags": []
          },
          "execution_count": 18
        }
      ]
    },
    {
      "cell_type": "code",
      "metadata": {
        "id": "vU4i8RiG9IpP",
        "colab_type": "code",
        "colab": {
          "base_uri": "https://localhost:8080/",
          "height": 51
        },
        "outputId": "b4c72057-434b-43fa-8010-3f1c36084f35"
      },
      "source": [
        "x = torch.Tensor(2,4)\n",
        "y = torch.Tensor(4,2)\n",
        "torch.mm(x, y)"
      ],
      "execution_count": 19,
      "outputs": [
        {
          "output_type": "execute_result",
          "data": {
            "text/plain": [
              "tensor([[0., 0.],\n",
              "        [nan, nan]])"
            ]
          },
          "metadata": {
            "tags": []
          },
          "execution_count": 19
        }
      ]
    },
    {
      "cell_type": "markdown",
      "metadata": {
        "id": "j4pExgLN7LP5",
        "colab_type": "text"
      },
      "source": [
        "---------\n",
        "## 3. Numpy Bridge\n",
        "\n",
        "Converting a torch Tensor to a numpy array and vice versa is a breeze.\n",
        "\n",
        "The torch Tensor and numpy array will share their underlying memory locations, and changing one will change the other.\n",
        "\n",
        "### 3.1 Converting torch Tensor to numpy Array"
      ]
    },
    {
      "cell_type": "code",
      "metadata": {
        "id": "PC5mxZCo7LP6",
        "colab_type": "code",
        "outputId": "43d157a8-cace-485b-b4fb-6fe37f753076",
        "colab": {
          "base_uri": "https://localhost:8080/",
          "height": 34
        }
      },
      "source": [
        "a = torch.ones(5)\n",
        "print(a)"
      ],
      "execution_count": 20,
      "outputs": [
        {
          "output_type": "stream",
          "text": [
            "tensor([1., 1., 1., 1., 1.])\n"
          ],
          "name": "stdout"
        }
      ]
    },
    {
      "cell_type": "code",
      "metadata": {
        "id": "veiy2eSO7LP8",
        "colab_type": "code",
        "outputId": "07991133-0c23-4c2a-e98e-9110f318e08d",
        "colab": {
          "base_uri": "https://localhost:8080/",
          "height": 51
        }
      },
      "source": [
        "b = a.numpy()\n",
        "print(b)\n",
        "type(b)"
      ],
      "execution_count": 21,
      "outputs": [
        {
          "output_type": "stream",
          "text": [
            "[1. 1. 1. 1. 1.]\n"
          ],
          "name": "stdout"
        },
        {
          "output_type": "execute_result",
          "data": {
            "text/plain": [
              "numpy.ndarray"
            ]
          },
          "metadata": {
            "tags": []
          },
          "execution_count": 21
        }
      ]
    },
    {
      "cell_type": "markdown",
      "metadata": {
        "id": "L19GgeNV7LP9",
        "colab_type": "text"
      },
      "source": [
        "See how the numpy array changed in value."
      ]
    },
    {
      "cell_type": "code",
      "metadata": {
        "id": "n1QRMXV77LP9",
        "colab_type": "code",
        "outputId": "46dc66f0-fbe7-48f2-9953-bf50aa47fe32",
        "colab": {
          "base_uri": "https://localhost:8080/",
          "height": 51
        }
      },
      "source": [
        "# in place addition \n",
        "a.add_(1)\n",
        "\n",
        "print(a)\n",
        "print(b)"
      ],
      "execution_count": 22,
      "outputs": [
        {
          "output_type": "stream",
          "text": [
            "tensor([2., 2., 2., 2., 2.])\n",
            "[2. 2. 2. 2. 2.]\n"
          ],
          "name": "stdout"
        }
      ]
    },
    {
      "cell_type": "markdown",
      "metadata": {
        "id": "K10S2Agk7LQE",
        "colab_type": "text"
      },
      "source": [
        "### 3.2 Converting numpy Array to torch Tensor\n",
        "\n",
        "See how changing the np array changed the torch Tensor automatically"
      ]
    },
    {
      "cell_type": "code",
      "metadata": {
        "id": "8k_r5weD7LQF",
        "colab_type": "code",
        "outputId": "3c8e893d-84a7-48d1-95f6-e9d53af967fd",
        "colab": {
          "base_uri": "https://localhost:8080/",
          "height": 51
        }
      },
      "source": [
        "import numpy as np\n",
        "# create 1D numpy array of 5 ones \n",
        "a = np.ones(5)\n",
        "\n",
        "# convert to a pytorch tensor \n",
        "b = torch.from_numpy(a)\n",
        "\n",
        "# add ones - this happens in place \n",
        "np.add(a, 1, out=a)\n",
        "\n",
        "print('Numpy array >>>', a)\n",
        "print('Pytorch tensor >>>', b)"
      ],
      "execution_count": 23,
      "outputs": [
        {
          "output_type": "stream",
          "text": [
            "Numpy array >>> [2. 2. 2. 2. 2.]\n",
            "Pytorch tensor >>> tensor([2., 2., 2., 2., 2.], dtype=torch.float64)\n"
          ],
          "name": "stdout"
        }
      ]
    },
    {
      "cell_type": "markdown",
      "metadata": {
        "id": "yRbLf0gL7LQG",
        "colab_type": "text"
      },
      "source": [
        "# Assignment\n",
        "\n",
        "1. create a tensor of size (5, 2) containing ones\n",
        "2. now convert it to a numpy array\n",
        "3. now convert it back to a torch tensor"
      ]
    },
    {
      "cell_type": "code",
      "metadata": {
        "id": "1Mpwuia_Fyza",
        "colab_type": "code",
        "colab": {
          "base_uri": "https://localhost:8080/",
          "height": 102
        },
        "outputId": "2fc3cf31-5407-4f9a-d458-031211a03b89"
      },
      "source": [
        "x = torch.ones(5, 2)\n",
        "print(x)"
      ],
      "execution_count": 24,
      "outputs": [
        {
          "output_type": "stream",
          "text": [
            "tensor([[1., 1.],\n",
            "        [1., 1.],\n",
            "        [1., 1.],\n",
            "        [1., 1.],\n",
            "        [1., 1.]])\n"
          ],
          "name": "stdout"
        }
      ]
    },
    {
      "cell_type": "code",
      "metadata": {
        "id": "qSDGLCPzF0h_",
        "colab_type": "code",
        "colab": {
          "base_uri": "https://localhost:8080/",
          "height": 102
        },
        "outputId": "da86f0aa-9d2c-45fe-bdba-087e899dbfb7"
      },
      "source": [
        "y = x.numpy()\n",
        "print(y)"
      ],
      "execution_count": 25,
      "outputs": [
        {
          "output_type": "stream",
          "text": [
            "[[1. 1.]\n",
            " [1. 1.]\n",
            " [1. 1.]\n",
            " [1. 1.]\n",
            " [1. 1.]]\n"
          ],
          "name": "stdout"
        }
      ]
    },
    {
      "cell_type": "code",
      "metadata": {
        "id": "ahQb7-k0F4_A",
        "colab_type": "code",
        "colab": {
          "base_uri": "https://localhost:8080/",
          "height": 102
        },
        "outputId": "87470aaa-8d44-4482-8b0b-986c6bd16b79"
      },
      "source": [
        "z = torch.from_numpy(y)\n",
        "print(z)"
      ],
      "execution_count": 26,
      "outputs": [
        {
          "output_type": "stream",
          "text": [
            "tensor([[1., 1.],\n",
            "        [1., 1.],\n",
            "        [1., 1.],\n",
            "        [1., 1.],\n",
            "        [1., 1.]])\n"
          ],
          "name": "stdout"
        }
      ]
    },
    {
      "cell_type": "markdown",
      "metadata": {
        "id": "3nBXxp2-7LQG",
        "colab_type": "text"
      },
      "source": [
        "All the Tensors on the CPU except a CharTensor support converting to NumPy and back.\n",
        "\n",
        "## 4 CUDA Tensors\n",
        "\n",
        "Tensors can be moved onto GPU using the `.cuda` function."
      ]
    },
    {
      "cell_type": "code",
      "metadata": {
        "id": "rXWZz0m07LQG",
        "colab_type": "code",
        "outputId": "1b2f2df8-01bc-43ed-c1f1-f4cd71f27bb9",
        "colab": {
          "base_uri": "https://localhost:8080/",
          "height": 34
        }
      },
      "source": [
        "# let us run this cell only if CUDA is available\n",
        "\n",
        "if torch.cuda.is_available():\n",
        "    x = x.cuda()\n",
        "    y = y.cuda()\n",
        "    z = x + y\n",
        "    # notice that the tensors are now of type torch.cuda.FloatTensor (notice the cuda in there)\n",
        "    # this is meant as a tensor to be run on the GPU.\n",
        "    # the .cuda() does this to any parameter it is applied to\n",
        "    print(x)\n",
        "    print(y)\n",
        "    print(z)\n",
        "else:\n",
        "    print(\"CUDA not available on your machine.\")"
      ],
      "execution_count": 27,
      "outputs": [
        {
          "output_type": "stream",
          "text": [
            "CUDA not available on your machine.\n"
          ],
          "name": "stdout"
        }
      ]
    },
    {
      "cell_type": "markdown",
      "metadata": {
        "id": "y7vOtW1D7LQH",
        "colab_type": "text"
      },
      "source": [
        "-----\n",
        "\n",
        "# Autograd: automatic differentiation\n",
        "\n",
        "Central to all neural networks in PyTorch is the ``autograd`` package.\n",
        "Let’s first briefly visit this, and we will then go to training our first neural network.\n",
        "\n",
        "The `autograd` package provides automatic differentiation for all operations on Tensors.\n",
        "It is a define-by-run framework, which means that your backprop is defined by how your code is run, and that every single iteration can be different.\n",
        "\n",
        "Let us see this in more simple terms with some examples."
      ]
    },
    {
      "cell_type": "markdown",
      "metadata": {
        "id": "tvEFsmmk7LQI",
        "colab_type": "text"
      },
      "source": [
        "## 1. Variable\n",
        "\n",
        "`autograd.Variable` is the central class of the package. It wraps a Tensor, and supports nearly all of operations defined on it.\n",
        "Once you finish your computation you can call `.backward()` and have all the gradients computed automatically.\n",
        "\n",
        "You can access the raw tensor through the `.data` attribute, while the gradient w.r.t. this variable is accumulated into `.grad`.\n",
        "\n",
        "![autograd.Variable](https://www.dropbox.com/s/rl8y8spv26covxg/Variable.png?dl=1)\n",
        "\n",
        "There’s one more class which is very important for autograd implementation - a `Function`.\n",
        "\n",
        "`Variable` and `Function` are interconnected and build up an `acyclic graph`, that encodes a complete history of computation. Each variable has a `.grad_fn` attribute that references a `Function` that has created the `Variable` (except for `Variable`s created by the user - their `grad_fn` is `None`).\n",
        "\n",
        "If you want to compute the derivatives, you can call `.backward()` on a `Variable`. If `Variable` is a scalar (i.e. it holds a one element data), you don’t need to specify any arguments to `backward()`, however if it has more elements, you need to specify a `grad_output` argument that is a tensor of matching shape."
      ]
    },
    {
      "cell_type": "code",
      "metadata": {
        "id": "MA-kh6Ls7LQI",
        "colab_type": "code",
        "colab": {}
      },
      "source": [
        "import torch\n",
        "from torch.autograd import Variable"
      ],
      "execution_count": 0,
      "outputs": []
    },
    {
      "cell_type": "markdown",
      "metadata": {
        "id": "i-2l30lG7LQJ",
        "colab_type": "text"
      },
      "source": [
        "Create a variable"
      ]
    },
    {
      "cell_type": "code",
      "metadata": {
        "id": "Domt2He_7LQJ",
        "colab_type": "code",
        "outputId": "38a86942-611d-4b2b-e8a1-b5b0ff5c3a61",
        "colab": {
          "base_uri": "https://localhost:8080/",
          "height": 51
        }
      },
      "source": [
        "x = Variable(torch.ones(2, 2), requires_grad=True)\n",
        "print(x)"
      ],
      "execution_count": 29,
      "outputs": [
        {
          "output_type": "stream",
          "text": [
            "tensor([[1., 1.],\n",
            "        [1., 1.]], requires_grad=True)\n"
          ],
          "name": "stdout"
        }
      ]
    },
    {
      "cell_type": "markdown",
      "metadata": {
        "id": "SJLl8omK7LQc",
        "colab_type": "text"
      },
      "source": [
        "Do an operation of variable:"
      ]
    },
    {
      "cell_type": "code",
      "metadata": {
        "id": "dbdpV3H77LQc",
        "colab_type": "code",
        "outputId": "acc0d96d-bd60-4d9c-8f21-7f8da4760d34",
        "colab": {
          "base_uri": "https://localhost:8080/",
          "height": 51
        }
      },
      "source": [
        "y = x + 2\n",
        "print(y)"
      ],
      "execution_count": 30,
      "outputs": [
        {
          "output_type": "stream",
          "text": [
            "tensor([[3., 3.],\n",
            "        [3., 3.]], grad_fn=<AddBackward0>)\n"
          ],
          "name": "stdout"
        }
      ]
    },
    {
      "cell_type": "markdown",
      "metadata": {
        "id": "AzUCRHal7LQd",
        "colab_type": "text"
      },
      "source": [
        "`y` was created as a result of an operation, so it has a `grad_fn`."
      ]
    },
    {
      "cell_type": "code",
      "metadata": {
        "id": "l3vON5Xq7LQd",
        "colab_type": "code",
        "outputId": "c0a03000-1f4b-4625-c6ff-7d0fb165e007",
        "colab": {
          "base_uri": "https://localhost:8080/",
          "height": 34
        }
      },
      "source": [
        "print(y.grad_fn)"
      ],
      "execution_count": 31,
      "outputs": [
        {
          "output_type": "stream",
          "text": [
            "<AddBackward0 object at 0x7f457a088160>\n"
          ],
          "name": "stdout"
        }
      ]
    },
    {
      "cell_type": "markdown",
      "metadata": {
        "id": "CMbj9JIV7LQe",
        "colab_type": "text"
      },
      "source": [
        "Do more operations on y"
      ]
    },
    {
      "cell_type": "markdown",
      "metadata": {
        "id": "Qi9rIVx67LQe",
        "colab_type": "text"
      },
      "source": [
        "$z = 3*(x+2)^2$"
      ]
    },
    {
      "cell_type": "code",
      "metadata": {
        "id": "lAyYp0_E7LQe",
        "colab_type": "code",
        "outputId": "47f5f2e6-0a20-455e-9d6c-e6ce8946d1c5",
        "colab": {
          "base_uri": "https://localhost:8080/",
          "height": 51
        }
      },
      "source": [
        "z = y * y * 3\n",
        "print(z)"
      ],
      "execution_count": 32,
      "outputs": [
        {
          "output_type": "stream",
          "text": [
            "tensor([[27., 27.],\n",
            "        [27., 27.]], grad_fn=<MulBackward0>)\n"
          ],
          "name": "stdout"
        }
      ]
    },
    {
      "cell_type": "markdown",
      "metadata": {
        "id": "RI7v0chJ7LQn",
        "colab_type": "text"
      },
      "source": [
        "$out = \\frac{1}{N}\\sum_{i}^{N} 3(x_{i} + 2)^2$"
      ]
    },
    {
      "cell_type": "code",
      "metadata": {
        "id": "zbUh-p087LQn",
        "colab_type": "code",
        "colab": {}
      },
      "source": [
        "out = z.mean()"
      ],
      "execution_count": 0,
      "outputs": []
    },
    {
      "cell_type": "code",
      "metadata": {
        "id": "1LAthwuv7LQo",
        "colab_type": "code",
        "outputId": "8ddcc3ec-fbbf-49f0-b73a-d4836956b60a",
        "colab": {
          "base_uri": "https://localhost:8080/",
          "height": 68
        }
      },
      "source": [
        "print(z)\n",
        "print(out)"
      ],
      "execution_count": 34,
      "outputs": [
        {
          "output_type": "stream",
          "text": [
            "tensor([[27., 27.],\n",
            "        [27., 27.]], grad_fn=<MulBackward0>)\n",
            "tensor(27., grad_fn=<MeanBackward0>)\n"
          ],
          "name": "stdout"
        }
      ]
    },
    {
      "cell_type": "markdown",
      "metadata": {
        "id": "p4RB4nls7LQp",
        "colab_type": "text"
      },
      "source": [
        "# Assignments\n",
        "\n",
        "1. Create a Variable that `requires_grad` containing a tensor of size (5, 5)\n",
        "2. Sum the values in the Variable"
      ]
    },
    {
      "cell_type": "code",
      "metadata": {
        "id": "FCfnLNGx7LQq",
        "colab_type": "code",
        "outputId": "74336784-81fe-4643-c9ac-e53d0d113cfa",
        "colab": {
          "base_uri": "https://localhost:8080/",
          "height": 102
        }
      },
      "source": [
        "xv = Variable(torch.rand(5,5), requires_grad = True)\n",
        "print(xv)"
      ],
      "execution_count": 35,
      "outputs": [
        {
          "output_type": "stream",
          "text": [
            "tensor([[0.5362, 0.7111, 0.8723, 0.2044, 0.8029],\n",
            "        [0.4430, 0.7272, 0.5863, 0.7517, 0.9357],\n",
            "        [0.8421, 0.4914, 0.1991, 0.5733, 0.2241],\n",
            "        [0.7334, 0.0621, 0.5508, 0.1512, 0.0401],\n",
            "        [0.1840, 0.2831, 0.1978, 0.2217, 0.9705]], requires_grad=True)\n"
          ],
          "name": "stdout"
        }
      ]
    },
    {
      "cell_type": "code",
      "metadata": {
        "id": "qiitkwLh7LQs",
        "colab_type": "code",
        "outputId": "b2b07bcd-ec0d-4a3b-a810-13ff7e6e781c",
        "colab": {
          "base_uri": "https://localhost:8080/",
          "height": 34
        }
      },
      "source": [
        "xs = xv.sum()\n",
        "print(xs)"
      ],
      "execution_count": 36,
      "outputs": [
        {
          "output_type": "stream",
          "text": [
            "tensor(12.2956, grad_fn=<SumBackward0>)\n"
          ],
          "name": "stdout"
        }
      ]
    },
    {
      "cell_type": "markdown",
      "metadata": {
        "id": "sCunUyLi7LQt",
        "colab_type": "text"
      },
      "source": [
        "## 2. Gradients\n",
        "\n",
        "Let’s backprop now `out.backward()` is equivalent to doing `out.backward(torch.Tensor([1.0]))`"
      ]
    },
    {
      "cell_type": "code",
      "metadata": {
        "id": "kvnOU_cr7LQt",
        "colab_type": "code",
        "colab": {}
      },
      "source": [
        "out.backward()"
      ],
      "execution_count": 0,
      "outputs": []
    },
    {
      "cell_type": "code",
      "metadata": {
        "id": "2WSkSVzx7LQu",
        "colab_type": "code",
        "outputId": "d8a7e822-4061-4ba5-f364-1b138f52a8c2",
        "colab": {
          "base_uri": "https://localhost:8080/",
          "height": 68
        }
      },
      "source": [
        "print(out)\n",
        "print(x)"
      ],
      "execution_count": 38,
      "outputs": [
        {
          "output_type": "stream",
          "text": [
            "tensor(27., grad_fn=<MeanBackward0>)\n",
            "tensor([[1., 1.],\n",
            "        [1., 1.]], requires_grad=True)\n"
          ],
          "name": "stdout"
        }
      ]
    },
    {
      "cell_type": "markdown",
      "metadata": {
        "id": "Gova7tL17LQu",
        "colab_type": "text"
      },
      "source": [
        "print gradients d(out)/dx"
      ]
    },
    {
      "cell_type": "code",
      "metadata": {
        "id": "cHwvMSKZ7LQu",
        "colab_type": "code",
        "outputId": "5f6a86c2-e515-4637-a653-355bac77c738",
        "colab": {
          "base_uri": "https://localhost:8080/",
          "height": 51
        }
      },
      "source": [
        "print(x.grad)"
      ],
      "execution_count": 39,
      "outputs": [
        {
          "output_type": "stream",
          "text": [
            "tensor([[4.5000, 4.5000],\n",
            "        [4.5000, 4.5000]])\n"
          ],
          "name": "stdout"
        }
      ]
    },
    {
      "cell_type": "markdown",
      "metadata": {
        "id": "isjsQ9aB7LQv",
        "colab_type": "text"
      },
      "source": [
        "You should have got a matrix of `4.5`. Let’s call the `out` *Variable* $o$.\n",
        "\n",
        "We have that $o = \\frac{1}{4}\\sum_i z_i$,\n",
        "$z_i = 3(x_i+2)^2$ and $z_i\\bigr\\rvert_{x_i=1} = 27$.\n",
        "\n",
        "Therefore, $\\frac{\\partial o}{\\partial x_i} = \\frac{3}{2}(x_i+2)$,\n",
        "hence $\\frac{\\partial o}{\\partial x_i}\\bigr\\rvert_{x_i=1} = \\frac{9}{2} = 4.5$.\n",
        "\n",
        "`You can do many crazy things with autograd!`"
      ]
    },
    {
      "cell_type": "code",
      "metadata": {
        "id": "LZpW5Qi27LQv",
        "colab_type": "code",
        "outputId": "835185d6-eebd-4c0b-af1c-7ef0427cb75f",
        "colab": {
          "base_uri": "https://localhost:8080/",
          "height": 34
        }
      },
      "source": [
        "x = torch.randn(3)\n",
        "x = Variable(x, requires_grad=True)\n",
        "\n",
        "y = x * 2\n",
        "while y.data.norm() < 1000:\n",
        "    y = y * 2\n",
        "\n",
        "print(y)"
      ],
      "execution_count": 40,
      "outputs": [
        {
          "output_type": "stream",
          "text": [
            "tensor([1298.6244,   95.2008, -226.1370], grad_fn=<MulBackward0>)\n"
          ],
          "name": "stdout"
        }
      ]
    },
    {
      "cell_type": "code",
      "metadata": {
        "id": "LN87JZw57LQw",
        "colab_type": "code",
        "outputId": "91ab904e-b745-4ca2-84f9-97029b155e04",
        "colab": {
          "base_uri": "https://localhost:8080/",
          "height": 34
        }
      },
      "source": [
        "gradients = torch.FloatTensor([0.1, 1.0, 0.0001])\n",
        "y.backward(gradients)\n",
        "\n",
        "print(x.grad)"
      ],
      "execution_count": 41,
      "outputs": [
        {
          "output_type": "stream",
          "text": [
            "tensor([5.1200e+01, 5.1200e+02, 5.1200e-02])\n"
          ],
          "name": "stdout"
        }
      ]
    },
    {
      "cell_type": "markdown",
      "metadata": {
        "id": "A5w9e9Dz7LQx",
        "colab_type": "text"
      },
      "source": [
        "**Read later**\n",
        "Documentation of `Variable` and `Function` is at http://pytorch.org/docs/autograd"
      ]
    },
    {
      "cell_type": "markdown",
      "metadata": {
        "id": "wJwFrF7d7LQx",
        "colab_type": "text"
      },
      "source": [
        "# Assignments\n",
        "\n",
        "1. Define a tensor\n",
        "2. Convert the tensor to a torch.Variable that requires_grad\n",
        "3. Multiply the torch.Variable with 2 and assign the result to a new python variable (i.e. `x = result`)\n",
        "4. Sum the variable's elements and assign to a new python variable\n",
        "5. Print the gradients of all the variables\n",
        "6. Now perform a backward pass on the last variable\n",
        "7. Print all gradients again\n",
        "  - what did you notice?"
      ]
    },
    {
      "cell_type": "code",
      "metadata": {
        "id": "ZbKLOXAR9kEJ",
        "colab_type": "code",
        "colab": {
          "base_uri": "https://localhost:8080/",
          "height": 102
        },
        "outputId": "2559a22c-18d6-4ccc-dd15-417366e10c36"
      },
      "source": [
        "x = torch.ones(5, 2)\n",
        "print(x)"
      ],
      "execution_count": 42,
      "outputs": [
        {
          "output_type": "stream",
          "text": [
            "tensor([[1., 1.],\n",
            "        [1., 1.],\n",
            "        [1., 1.],\n",
            "        [1., 1.],\n",
            "        [1., 1.]])\n"
          ],
          "name": "stdout"
        }
      ]
    },
    {
      "cell_type": "code",
      "metadata": {
        "id": "c8Tc_E7G9qkS",
        "colab_type": "code",
        "colab": {
          "base_uri": "https://localhost:8080/",
          "height": 102
        },
        "outputId": "9c955aac-4afa-4c8b-e210-617a56c3fa3d"
      },
      "source": [
        "y = x.numpy()\n",
        "print(y, type(y))"
      ],
      "execution_count": 43,
      "outputs": [
        {
          "output_type": "stream",
          "text": [
            "[[1. 1.]\n",
            " [1. 1.]\n",
            " [1. 1.]\n",
            " [1. 1.]\n",
            " [1. 1.]] <class 'numpy.ndarray'>\n"
          ],
          "name": "stdout"
        }
      ]
    },
    {
      "cell_type": "code",
      "metadata": {
        "id": "QfNNalzV9wkS",
        "colab_type": "code",
        "colab": {
          "base_uri": "https://localhost:8080/",
          "height": 102
        },
        "outputId": "abffd1c2-de6b-49bb-9ebb-9097caf970a4"
      },
      "source": [
        "z = torch.from_numpy(y)\n",
        "print(z)"
      ],
      "execution_count": 44,
      "outputs": [
        {
          "output_type": "stream",
          "text": [
            "tensor([[1., 1.],\n",
            "        [1., 1.],\n",
            "        [1., 1.],\n",
            "        [1., 1.],\n",
            "        [1., 1.]])\n"
          ],
          "name": "stdout"
        }
      ]
    },
    {
      "cell_type": "markdown",
      "metadata": {
        "id": "Hvygz3Xs7LQx",
        "colab_type": "text"
      },
      "source": [
        "$outsum = \\sum_{i}x_i^{2}$"
      ]
    },
    {
      "cell_type": "markdown",
      "metadata": {
        "id": "KwVa9-cf7LQx",
        "colab_type": "text"
      },
      "source": [
        "perform partial derivative w.r.t. variable $x$\n",
        "\n",
        "$grad = 2x$"
      ]
    },
    {
      "cell_type": "markdown",
      "metadata": {
        "id": "oXwHjWzB7LQy",
        "colab_type": "text"
      },
      "source": [
        "The autograd.Variable() module keeps track of all operations done on the data \n",
        "and thereby allowing us to compute the gradient of the function. "
      ]
    },
    {
      "cell_type": "markdown",
      "metadata": {
        "id": "YQq7ypsN7LQy",
        "colab_type": "text"
      },
      "source": [
        "# Credits\n",
        "> This code is a slight modification to a translation (TensorFlow --> PyTorch) of a previous version of the [02456](http://kurser.dtu.dk/course/02456) course material. \n",
        "> [Original repo link (TensorFlow)](https://github.com/DeepLearningDTU/02456-deep-learning).\n",
        "> [Translated repo link (PyTorch)](https://github.com/munkai/pytorch-tutorial/tree/master/2_intermediate)."
      ]
    },
    {
      "cell_type": "markdown",
      "metadata": {
        "id": "XfoXVS_J7LQy",
        "colab_type": "text"
      },
      "source": [
        "# Purpose and goals\n",
        "In this notebook you will implement a simple neural network in PyTorch.\n",
        "\n",
        "The building blocks of `PyTorch` are `Tensors`, `Variables` and `Operations`, with these we can form `dynamic computational graphs` that form neural networks.\n",
        "\n",
        "In this exercise we'll start right away by defining a logistic regression model using these simple building blocks.\n",
        "\n",
        "We'll initially start with a simple 2D and two-class classification problem where the class decision boundary can be visualized.\n",
        "\n",
        "Initially we show that logistic regression can only separate classes linearly.\n",
        "Adding a nonlinear hidden layer to the algorithm permits nonlinear class separation.\n",
        "\n",
        "In this notebook you should:\n",
        "* **First** run the code as is, and see what it does.\n",
        "* **Then** modify the code, following the instructions in the bottom of the notebook.\n",
        "* **Lastly** play a round a bit, and do some small experiments that you come up with.\n",
        "\n",
        "> We assume that you are already familiar with backpropagation (if not please see [Andrej Karpathy](http://cs.stanford.edu/people/karpathy/) or [Michal Nielsen](http://neuralnetworksanddeeplearning.com/chap2.html))."
      ]
    },
    {
      "cell_type": "markdown",
      "metadata": {
        "id": "tCFen1C17LQy",
        "colab_type": "text"
      },
      "source": [
        "# Dependancies and supporting functions\n",
        "Loading dependancies and supporting functions by running the code block below."
      ]
    },
    {
      "cell_type": "code",
      "metadata": {
        "id": "BHBwB1gO7LQy",
        "colab_type": "code",
        "colab": {}
      },
      "source": [
        "%matplotlib inline\n",
        "import matplotlib\n",
        "import numpy as np\n",
        "import matplotlib.pyplot as plt\n",
        "import sklearn.datasets\n",
        "\n",
        "# Do not worry about the code below for now, it is used for plotting later\n",
        "def plot_decision_boundary(pred_func, X, y):\n",
        "    #from https://github.com/dennybritz/nn-from-scratch/blob/master/nn-from-scratch.ipynb\n",
        "    # Set min and max values and give it some padding\n",
        "    x_min, x_max = X[:, 0].min() - .5, X[:, 0].max() + .5\n",
        "    y_min, y_max = X[:, 1].min() - .5, X[:, 1].max() + .5\n",
        "    \n",
        "    h = 0.01\n",
        "    # Generate a grid of points with distance h between them\n",
        "    xx, yy = np.meshgrid(np.arange(x_min, x_max, h), np.arange(y_min, y_max, h))\n",
        "    \n",
        "    yy = yy.astype('float32')\n",
        "    xx = xx.astype('float32')\n",
        "    # Predict the function value for the whole gid\n",
        "    Z = pred_func(np.c_[xx.ravel(), yy.ravel()])[:,0]\n",
        "    Z = Z.reshape(xx.shape)\n",
        "    # Plot the contour and training examples\n",
        "    plt.figure()\n",
        "    plt.contourf(xx, yy, Z, cmap=plt.cm.RdBu)\n",
        "    plt.scatter(X[:, 0], X[:, 1], c=-y, cmap=plt.cm.Spectral)"
      ],
      "execution_count": 0,
      "outputs": []
    },
    {
      "cell_type": "code",
      "metadata": {
        "id": "ey1xToPs7LQz",
        "colab_type": "code",
        "colab": {}
      },
      "source": [
        "def onehot(t, num_classes):\n",
        "    \n",
        "    out = np.zeros((t.shape[0], num_classes))\n",
        "    \n",
        "    for row, col in enumerate(t):\n",
        "        out[row, col] = 1\n",
        "    return out"
      ],
      "execution_count": 0,
      "outputs": []
    },
    {
      "cell_type": "markdown",
      "metadata": {
        "id": "0bdaCPxe7LQ0",
        "colab_type": "text"
      },
      "source": [
        "# Problem \n",
        "We'll initally demonstrate the that Multi-layer Perceptrons (MLPs) can classify nonlinear problems, whereas simple logistic regression cannot.\n",
        "For ease of visualization and computationl speed we initially experiment on the simple 2D half-moon dataset, visualized below."
      ]
    },
    {
      "cell_type": "code",
      "metadata": {
        "id": "SYR_2ZgO7LQ0",
        "colab_type": "code",
        "outputId": "249b1b2d-e1c9-4f9d-9920-1dc20e347aff",
        "colab": {
          "base_uri": "https://localhost:8080/",
          "height": 51
        }
      },
      "source": [
        "# Generate a dataset and plot it\n",
        "np.random.seed(0)\n",
        "num_samples = 300\n",
        "\n",
        "X, y = sklearn.datasets.make_moons(num_samples, noise=0.20)\n",
        "\n",
        "print(X.shape)\n",
        "print(y.shape)"
      ],
      "execution_count": 47,
      "outputs": [
        {
          "output_type": "stream",
          "text": [
            "(300, 2)\n",
            "(300,)\n"
          ],
          "name": "stdout"
        }
      ]
    },
    {
      "cell_type": "code",
      "metadata": {
        "id": "HBN7UNDO7LQ2",
        "colab_type": "code",
        "outputId": "b4e35cd0-ca1f-4eee-a734-2ff5a6023dbd",
        "colab": {
          "base_uri": "https://localhost:8080/",
          "height": 68
        }
      },
      "source": [
        "# define train, validation, and test sets\n",
        "X_tr = X[:100].astype('float32')\n",
        "print('Train set:', X_tr.shape)\n",
        "\n",
        "X_val = X[100:200].astype('float32')\n",
        "print('Validation set:', X_val.shape)\n",
        "\n",
        "X_te = X[200:].astype('float32')\n",
        "print('Test set:', X_te.shape)"
      ],
      "execution_count": 48,
      "outputs": [
        {
          "output_type": "stream",
          "text": [
            "Train set: (100, 2)\n",
            "Validation set: (100, 2)\n",
            "Test set: (100, 2)\n"
          ],
          "name": "stdout"
        }
      ]
    },
    {
      "cell_type": "code",
      "metadata": {
        "id": "lM-vL5BD7LQ3",
        "colab_type": "code",
        "colab": {}
      },
      "source": [
        "# and labels\n",
        "y_tr = y[:100].astype('int32')\n",
        "y_val = y[100:200].astype('int32')\n",
        "y_te = y[200:].astype('int32')"
      ],
      "execution_count": 0,
      "outputs": []
    },
    {
      "cell_type": "code",
      "metadata": {
        "id": "btYaNq367LQ3",
        "colab_type": "code",
        "outputId": "cef7bf76-252a-4051-e3c8-81bebcd85410",
        "colab": {
          "base_uri": "https://localhost:8080/",
          "height": 316
        }
      },
      "source": [
        "plt.scatter(X_tr[:,0], X_tr[:,1], s=40, c=y_tr, cmap=plt.cm.Spectral)\n",
        "print(X.shape, y.shape)\n",
        "\n",
        "num_features = X_tr.shape[-1]\n",
        "print('Number of features:>>', num_features)\n",
        "\n",
        "num_output = 2\n",
        "print('Number of outputs:>>', num_output)"
      ],
      "execution_count": 50,
      "outputs": [
        {
          "output_type": "stream",
          "text": [
            "(300, 2) (300,)\n",
            "Number of features:>> 2\n",
            "Number of outputs:>> 2\n"
          ],
          "name": "stdout"
        },
        {
          "output_type": "display_data",
          "data": {
            "image/png": "[encoded data removed]",
            "text/plain": [
              "<Figure size 432x288 with 1 Axes>"
            ]
          },
          "metadata": {
            "tags": []
          }
        }
      ]
    },
    {
      "cell_type": "markdown",
      "metadata": {
        "id": "yVII14no7LQ4",
        "colab_type": "text"
      },
      "source": [
        "# From Logistic Regression to \"Deep Learning\"\n",
        "The code implements logistic regression. In section [__Assignments Half Moon__](#Assignments-Half-Moon) (bottom of this notebook) you are asked to modify the code into a neural network.\n",
        "\n",
        "The standard building block for neural networks are layers.\n",
        "The simplest of which is called a `dense feed forward layer`, and it is computed as follows:\n",
        "\n",
        "$$y = \\mathrm{nonlinearity}(xW + b)$$\n",
        "\n",
        "where $x$ is the input vector, $y$ is the output vector, and $W, b$ are the weights (a matrix and vector respectively).\n",
        "The *dense* part of the name comes from the fact that every element of $x$ contributes to every element of $y$.\n",
        "And the *feed forward* part of the name means that the layer processes each input independently. \n",
        "If we were to draw the layer it would be acyclical.\n",
        "Later we will se layers that break both of these conventions."
      ]
    },
    {
      "cell_type": "markdown",
      "metadata": {
        "id": "IZqMpa6a7LQ4",
        "colab_type": "text"
      },
      "source": [
        "- $x$ has shape `[batch_size, num_features]`,\n",
        "- $W$ has shape `[num_features, num_units]`,\n",
        "- $b$ has `[num_units]`, and\n",
        "- $y$ has then `[batch_size, num_units]`"
      ]
    },
    {
      "cell_type": "markdown",
      "metadata": {
        "id": "qjIe4R1n7LQ4",
        "colab_type": "text"
      },
      "source": [
        "## PyTorch 101\n",
        "\n",
        "In this first exercise we will use basic PyTorch functions so that you can learn how to build it from scratch. This will help you later if you want to build your own custom operations."
      ]
    },
    {
      "cell_type": "code",
      "metadata": {
        "id": "4kmRIJNA7LQ4",
        "colab_type": "code",
        "colab": {}
      },
      "source": [
        "import torch\n",
        "from torch.autograd import Variable\n",
        "from torch.nn.parameter import Parameter # A kind of Tensor that is to be considered a module parameter.\n",
        "import torch.nn as nn # Base class for all neural network modules.\n",
        "import torch.nn.functional as F # Functional interface  "
      ],
      "execution_count": 0,
      "outputs": []
    },
    {
      "cell_type": "markdown",
      "metadata": {
        "id": "9Yl_r4kT7LQ5",
        "colab_type": "text"
      },
      "source": [
        "[`Parameters`](http://pytorch.org/docs/0.1.12/nn.html#torch.nn.Parameter) are [`Variable`](http://pytorch.org/docs/0.1.12/autograd.html#torch.autograd.Variable) subclasses, that have a very special property when used with [`Module`](http://pytorch.org/docs/0.1.12/nn.html#torch.nn.Module)'s - when they’re assigned as `Module` attributes they are automatically added to the list of its parameters, and will appear e.g. in [`.parameters()`](http://pytorch.org/docs/0.1.12/nn.html#torch.nn.Module.parameters) iterator.\n",
        "Assigning a Variable doesn’t have such effect.\n",
        "This is because one might want to cache some temporary state (more on this later) in the model.\n",
        "If there was no such class as `Parameter`, these temporaries would get registered too."
      ]
    },
    {
      "cell_type": "code",
      "metadata": {
        "id": "rUt3IUjL7LQ5",
        "colab_type": "code",
        "colab": {}
      },
      "source": [
        "class Net(nn.Module):\n",
        "    def __init__(self):  \n",
        "        \n",
        "        # inherit attributes and methods from the parent class \n",
        "        super(Net, self).__init__()        \n",
        "        \n",
        "        # Setting up variables, these variables are weights in your \n",
        "        # network that can be updated while running our graph.\n",
        "        \n",
        "        # Notice, to make a hidden layer, the weights need to have the         \n",
        "        # following dimensionality:\n",
        "        #   W[number_of_units_going_out, number_of_units_going_in]\n",
        "        #   b[number_of_units_going_out]\n",
        "        \n",
        "        # in the example below we have 2 input units (num_features) and 2 output units (num_output)\n",
        "        # so our weights become W[2, 2], b[2]\n",
        "        \n",
        "        # if we want to make a hidden layer with 100 units, we need to define the shape of the\n",
        "        # first weight to W[100, 2], b[2] and the shape of the second weight to W[2, 100], b[2]\n",
        "         \n",
        "        # first layer\n",
        "        self.W_1 = Parameter(torch.randn(num_output, num_features)) \n",
        "        self.b_1 = Parameter(torch.randn(num_output))\n",
        "                        \n",
        "        # second layer (to be completed as an exercise)\n",
        "        # NB when you create a second layer, remember that you also must change parts of the first layer\n",
        "        # number of features of the pervious layer will be equal to the number of output of the current \n",
        "        # layer \n",
        "        # self.W_2 = Parameter(torch.randn(num_features, num_output)) \n",
        "        # self.b_2 = self.b_1 = Parameter(torch.randn(num_features))\n",
        "        \n",
        "       \n",
        "    def forward(self, x):\n",
        "        # method of the class \n",
        "        \n",
        "        # Setting up ops, these ops will define edges along our computational graph\n",
        "        # The below ops will compute a logistic regression, \n",
        "        # but can be modified to compute a neural network        \n",
        "        \n",
        "        # Applies a linear transformation to the incoming data: :math:`y = xW^T + b` \n",
        "        x = F.linear(x, self.W_1, self.b_1)\n",
        "        \n",
        "        # second layer (to be completed as an exercise)\n",
        "        # NB when you create a second layer, remember that you also must change parts of the first layer\n",
        "        # x = F.linear(x, self.W_2, self.b_2)        \n",
        "        \n",
        "        # softmax to be performed on the second dimension\n",
        "        xSoftmax = F.softmax(x, dim = 1)\n",
        "        \n",
        "        return xSoftmax    "
      ],
      "execution_count": 0,
      "outputs": []
    },
    {
      "cell_type": "code",
      "metadata": {
        "id": "TrImBeEa7LQ5",
        "colab_type": "code",
        "outputId": "21d3be2c-b3d0-46cc-d81a-6a3860ff7dfd",
        "colab": {
          "base_uri": "https://localhost:8080/",
          "height": 34
        }
      },
      "source": [
        "net = Net()\n",
        "print(net)"
      ],
      "execution_count": 53,
      "outputs": [
        {
          "output_type": "stream",
          "text": [
            "Net()\n"
          ],
          "name": "stdout"
        }
      ]
    },
    {
      "cell_type": "markdown",
      "metadata": {
        "id": "mHvqi22S7LQ6",
        "colab_type": "text"
      },
      "source": [
        "Knowing how to print your tensors is useful"
      ]
    },
    {
      "cell_type": "code",
      "metadata": {
        "id": "bqj5vKzU7LQ6",
        "colab_type": "code",
        "outputId": "efb093ad-6d44-4285-9096-85ed979b5247",
        "colab": {
          "base_uri": "https://localhost:8080/",
          "height": 102
        }
      },
      "source": [
        "# list all parameters in your network\n",
        "print(\"NAMED PARAMETERS\")\n",
        "print(list(net.named_parameters()))"
      ],
      "execution_count": 54,
      "outputs": [
        {
          "output_type": "stream",
          "text": [
            "NAMED PARAMETERS\n",
            "[('W_1', Parameter containing:\n",
            "tensor([[ 2.3034, -1.8216],\n",
            "        [-0.0953,  1.8687]], requires_grad=True)), ('b_1', Parameter containing:\n",
            "tensor([ 0.0399, -1.0386], requires_grad=True))]\n"
          ],
          "name": "stdout"
        }
      ]
    },
    {
      "cell_type": "code",
      "metadata": {
        "id": "4c09tmyp7LQ8",
        "colab_type": "code",
        "outputId": "633ca248-bb91-4cc6-b30c-9f395bf55670",
        "colab": {
          "base_uri": "https://localhost:8080/",
          "height": 119
        }
      },
      "source": [
        "# the .parameters() method simply gives the Tensors in the list\n",
        "print(\"PARAMETERS\")\n",
        "print(list(net.parameters()))\n",
        "print()"
      ],
      "execution_count": 55,
      "outputs": [
        {
          "output_type": "stream",
          "text": [
            "PARAMETERS\n",
            "[Parameter containing:\n",
            "tensor([[ 2.3034, -1.8216],\n",
            "        [-0.0953,  1.8687]], requires_grad=True), Parameter containing:\n",
            "tensor([ 0.0399, -1.0386], requires_grad=True)]\n",
            "\n"
          ],
          "name": "stdout"
        }
      ]
    },
    {
      "cell_type": "code",
      "metadata": {
        "id": "LwaBcZJo7LQ8",
        "colab_type": "code",
        "outputId": "ca5ba301-3f92-448f-fcb6-0207d09bfc08",
        "colab": {
          "base_uri": "https://localhost:8080/",
          "height": 102
        }
      },
      "source": [
        "# list individual parameters by name\n",
        "print('WEIGHTS')\n",
        "print(net.W_1)\n",
        "print(net.W_1.size())"
      ],
      "execution_count": 56,
      "outputs": [
        {
          "output_type": "stream",
          "text": [
            "WEIGHTS\n",
            "Parameter containing:\n",
            "tensor([[ 2.3034, -1.8216],\n",
            "        [-0.0953,  1.8687]], requires_grad=True)\n",
            "torch.Size([2, 2])\n"
          ],
          "name": "stdout"
        }
      ]
    },
    {
      "cell_type": "code",
      "metadata": {
        "id": "XQPcoMrz7LQ9",
        "colab_type": "code",
        "outputId": "e6f14da7-1525-4a68-ad6f-a0f2caf8c8ef",
        "colab": {
          "base_uri": "https://localhost:8080/",
          "height": 102
        }
      },
      "source": [
        "print('\\nBIAS')\n",
        "print(net.b_1)\n",
        "print(net.b_1.size())"
      ],
      "execution_count": 57,
      "outputs": [
        {
          "output_type": "stream",
          "text": [
            "\n",
            "BIAS\n",
            "Parameter containing:\n",
            "tensor([ 0.0399, -1.0386], requires_grad=True)\n",
            "torch.Size([2])\n"
          ],
          "name": "stdout"
        }
      ]
    },
    {
      "cell_type": "markdown",
      "metadata": {
        "id": "iJyBbBYO7LQ-",
        "colab_type": "text"
      },
      "source": [
        "# Exploring Parameter\n",
        "\n",
        "Ok, let's investigate what a `Parameter`/`Variable` is"
      ]
    },
    {
      "cell_type": "code",
      "metadata": {
        "id": "KnDmQV5l7LQ-",
        "colab_type": "code",
        "outputId": "e70be45f-7632-4583-e25f-787471ce8f8e",
        "colab": {
          "base_uri": "https://localhost:8080/",
          "height": 68
        }
      },
      "source": [
        "param = net.W_1\n",
        "print(param)"
      ],
      "execution_count": 58,
      "outputs": [
        {
          "output_type": "stream",
          "text": [
            "Parameter containing:\n",
            "tensor([[ 2.3034, -1.8216],\n",
            "        [-0.0953,  1.8687]], requires_grad=True)\n"
          ],
          "name": "stdout"
        }
      ]
    },
    {
      "cell_type": "code",
      "metadata": {
        "id": "ThgTW6kF7LQ_",
        "colab_type": "code",
        "outputId": "7c5d4596-b58b-40b5-ab8d-f5cdd46920af",
        "colab": {
          "base_uri": "https://localhost:8080/",
          "height": 170
        }
      },
      "source": [
        "print(\"## this is the tensor\")\n",
        "print(param.data)\n",
        "\n",
        "print(\"\\n## this is the tensor's gradient\")\n",
        "print(param.grad)\n",
        "# notice, the gradient is undefined because we have not yet run a backward pass\n",
        "\n",
        "print(\"\\n## is it a leaf in the graph?\")\n",
        "print(param.is_leaf)"
      ],
      "execution_count": 59,
      "outputs": [
        {
          "output_type": "stream",
          "text": [
            "## this is the tensor\n",
            "tensor([[ 2.3034, -1.8216],\n",
            "        [-0.0953,  1.8687]])\n",
            "\n",
            "## this is the tensor's gradient\n",
            "None\n",
            "\n",
            "## is it a leaf in the graph?\n",
            "True\n"
          ],
          "name": "stdout"
        }
      ]
    },
    {
      "cell_type": "markdown",
      "metadata": {
        "id": "VwmEuton7LQ_",
        "colab_type": "text"
      },
      "source": [
        "## Excluding subgraphs from backward propagation\n",
        "\n",
        "`Variable`s have two properties which allow you to define if a graph is going to be used for training or inference, `requires_grad` and `volatile`.\n",
        "During training we might not want to compute the gradients for all layers, e.g. if we have a pretrained model or embeddings that we do not want to change the values of.\n",
        "\n",
        "To compute gradients we need to store activations and compute the backward pass for the given layer.\n",
        "Setting `requires_grad = False` will allow you to circumvent these properties.\n",
        "If any paramater in an operation / layer requires gradient then the entire output of the operation will also require gradient.\n",
        "\n",
        "The `volatile` property is mostly used when you want to run inference with your model, and if it is set to `True` the entire graph will not require gradient. This means that you expect to never call `.backward()` on the network.\n",
        "\n",
        "See http://pytorch.org/docs/master/notes/autograd.html for an in-depth explanation."
      ]
    },
    {
      "cell_type": "markdown",
      "metadata": {
        "id": "qekpS67E7LRA",
        "colab_type": "text"
      },
      "source": [
        "# Test network\n",
        "\n",
        "To use our network we can simply call our graph, and it will dynamically be created. Here is an example of running the network's forward pass."
      ]
    },
    {
      "cell_type": "code",
      "metadata": {
        "id": "8Rm601nv7LRA",
        "colab_type": "code",
        "colab": {}
      },
      "source": [
        "num_neurons = 5\n",
        "X = Variable(torch.randn(num_neurons, num_features))\n",
        "\n",
        "# the net.__call__ runs some pre-defined functions\n",
        "# both before and after running net.forward()\n",
        "# see http://pytorch.org/docs/master/_modules/torch/nn/modules/module.html"
      ],
      "execution_count": 0,
      "outputs": []
    },
    {
      "cell_type": "code",
      "metadata": {
        "id": "6IO0pANd7LRA",
        "colab_type": "code",
        "outputId": "f31cb50e-c534-4d0d-a3f5-c9585de936b3",
        "colab": {
          "base_uri": "https://localhost:8080/",
          "height": 136
        }
      },
      "source": [
        "print('input')\n",
        "print(X)\n",
        "print(X.shape)"
      ],
      "execution_count": 61,
      "outputs": [
        {
          "output_type": "stream",
          "text": [
            "input\n",
            "tensor([[-0.9870, -0.2317],\n",
            "        [-0.8730,  0.3042],\n",
            "        [ 1.7153, -0.3901],\n",
            "        [-0.9813,  0.5364],\n",
            "        [-0.4048,  1.0329]])\n",
            "torch.Size([5, 2])\n"
          ],
          "name": "stdout"
        }
      ]
    },
    {
      "cell_type": "code",
      "metadata": {
        "id": "xCtZvG_57LRB",
        "colab_type": "code",
        "outputId": "d87111e5-c0b1-4b29-e898-4b2c9fe689d8",
        "colab": {
          "base_uri": "https://localhost:8080/",
          "height": 136
        }
      },
      "source": [
        "print('\\noutput')\n",
        "print(net(X))"
      ],
      "execution_count": 62,
      "outputs": [
        {
          "output_type": "stream",
          "text": [
            "\n",
            "output\n",
            "tensor([[0.3932, 0.6068],\n",
            "        [0.1055, 0.8945],\n",
            "        [0.9987, 0.0013],\n",
            "        [0.0372, 0.9628],\n",
            "        [0.0240, 0.9760]], grad_fn=<SoftmaxBackward>)\n"
          ],
          "name": "stdout"
        }
      ]
    },
    {
      "cell_type": "code",
      "metadata": {
        "id": "aEGVswZE7LRC",
        "colab_type": "code",
        "outputId": "8d428222-b177-4f17-c725-dcf83101a9cf",
        "colab": {
          "base_uri": "https://localhost:8080/",
          "height": 102
        }
      },
      "source": [
        "print('\\nWEIGHT')\n",
        "\n",
        "param = net.W_1\n",
        "print(param)"
      ],
      "execution_count": 63,
      "outputs": [
        {
          "output_type": "stream",
          "text": [
            "\n",
            "WEIGHT\n",
            "Parameter containing:\n",
            "tensor([[ 2.3034, -1.8216],\n",
            "        [-0.0953,  1.8687]], requires_grad=True)\n"
          ],
          "name": "stdout"
        }
      ]
    },
    {
      "cell_type": "code",
      "metadata": {
        "id": "J13xS__m7LRC",
        "colab_type": "code",
        "outputId": "8d92d8fe-9ec5-4d68-dbcc-610e91fca8cf",
        "colab": {
          "base_uri": "https://localhost:8080/",
          "height": 85
        }
      },
      "source": [
        "print('\\nBIAS')\n",
        "print(net.b_1)"
      ],
      "execution_count": 64,
      "outputs": [
        {
          "output_type": "stream",
          "text": [
            "\n",
            "BIAS\n",
            "Parameter containing:\n",
            "tensor([ 0.0399, -1.0386], requires_grad=True)\n"
          ],
          "name": "stdout"
        }
      ]
    },
    {
      "cell_type": "markdown",
      "metadata": {
        "id": "dzu7v6FG7LRD",
        "colab_type": "text"
      },
      "source": [
        "Parameters is a special case of Variable "
      ]
    },
    {
      "cell_type": "code",
      "metadata": {
        "id": "VC2Djvyt7LRG",
        "colab_type": "code",
        "outputId": "a0f68528-dbb5-4400-fd50-e9fa278119a0",
        "colab": {
          "base_uri": "https://localhost:8080/",
          "height": 136
        }
      },
      "source": [
        "# let's take a look at the gradients\n",
        "for p in net.parameters():\n",
        "    print('DATA >>>', p.data)\n",
        "    print('GRADIENT >>>', p.grad)\n",
        "    print()"
      ],
      "execution_count": 65,
      "outputs": [
        {
          "output_type": "stream",
          "text": [
            "DATA >>> tensor([[ 2.3034, -1.8216],\n",
            "        [-0.0953,  1.8687]])\n",
            "GRADIENT >>> None\n",
            "\n",
            "DATA >>> tensor([ 0.0399, -1.0386])\n",
            "GRADIENT >>> None\n",
            "\n"
          ],
          "name": "stdout"
        }
      ]
    },
    {
      "cell_type": "code",
      "metadata": {
        "id": "JlA7rQlN7LRG",
        "colab_type": "code",
        "outputId": "6cba48da-9885-465a-99bc-008d63ff0f39",
        "colab": {
          "base_uri": "https://localhost:8080/",
          "height": 136
        }
      },
      "source": [
        "X = Variable(torch.randn(7, num_features))\n",
        "out = net(X)\n",
        "print(out)"
      ],
      "execution_count": 66,
      "outputs": [
        {
          "output_type": "stream",
          "text": [
            "tensor([[0.0349, 0.9651],\n",
            "        [0.8980, 0.1020],\n",
            "        [0.9985, 0.0015],\n",
            "        [0.9925, 0.0075],\n",
            "        [0.9599, 0.0401],\n",
            "        [0.3472, 0.6528],\n",
            "        [0.0140, 0.9860]], grad_fn=<SoftmaxBackward>)\n"
          ],
          "name": "stdout"
        }
      ]
    },
    {
      "cell_type": "code",
      "metadata": {
        "id": "Tsqib8An7LRH",
        "colab_type": "code",
        "colab": {}
      },
      "source": [
        "# we need to give a tensor of gradients to .backward,\n",
        "# we give a dummy tensor\n",
        "out.backward(torch.randn(7, num_features))"
      ],
      "execution_count": 0,
      "outputs": []
    },
    {
      "cell_type": "markdown",
      "metadata": {
        "id": "LqllTpv57LRI",
        "colab_type": "text"
      },
      "source": [
        "for details on `.backward()`, see http://pytorch.org/docs/master/autograd.html#torch.autograd.backward"
      ]
    },
    {
      "cell_type": "code",
      "metadata": {
        "id": "kMQPlk5g7LRI",
        "colab_type": "code",
        "outputId": "578a2322-d07f-460d-cedf-eb8ddb8723e9",
        "colab": {
          "base_uri": "https://localhost:8080/",
          "height": 153
        }
      },
      "source": [
        "# let's take a look at the gradients\n",
        "for p in net.parameters():\n",
        "    print('DATA >>>', p.data)\n",
        "    print('GRADIENT >>>', p.grad)\n",
        "    print()"
      ],
      "execution_count": 68,
      "outputs": [
        {
          "output_type": "stream",
          "text": [
            "DATA >>> tensor([[ 2.3034, -1.8216],\n",
            "        [-0.0953,  1.8687]])\n",
            "GRADIENT >>> tensor([[-0.4826, -0.1601],\n",
            "        [ 0.4826,  0.1601]])\n",
            "\n",
            "DATA >>> tensor([ 0.0399, -1.0386])\n",
            "GRADIENT >>> tensor([ 0.0165, -0.0165])\n",
            "\n"
          ],
          "name": "stdout"
        }
      ]
    },
    {
      "cell_type": "code",
      "metadata": {
        "id": "7x0dlm6R7LRI",
        "colab_type": "code",
        "outputId": "eaf16fd9-c9d1-4c8f-8262-153a9355b1bb",
        "colab": {
          "base_uri": "https://localhost:8080/",
          "height": 153
        }
      },
      "source": [
        "# ok, let's try and zero the accumulated gradients\n",
        "net.zero_grad()\n",
        "\n",
        "for p in net.parameters():\n",
        "    print('DATA >>>', p.data)\n",
        "    print('GRADIENT >>>', p.grad)\n",
        "    print()"
      ],
      "execution_count": 69,
      "outputs": [
        {
          "output_type": "stream",
          "text": [
            "DATA >>> tensor([[ 2.3034, -1.8216],\n",
            "        [-0.0953,  1.8687]])\n",
            "GRADIENT >>> tensor([[0., 0.],\n",
            "        [0., 0.]])\n",
            "\n",
            "DATA >>> tensor([ 0.0399, -1.0386])\n",
            "GRADIENT >>> tensor([0., 0.])\n",
            "\n"
          ],
          "name": "stdout"
        }
      ]
    },
    {
      "cell_type": "markdown",
      "metadata": {
        "id": "BTY1zs4A7LRJ",
        "colab_type": "text"
      },
      "source": [
        "# Loss function\n",
        "\n",
        "Let's define a custom loss function to compute how good our graph is doing."
      ]
    },
    {
      "cell_type": "code",
      "metadata": {
        "id": "flIRmUhZ7LRJ",
        "colab_type": "code",
        "colab": {}
      },
      "source": [
        "def cross_entropy(ys, ts):    \n",
        "    # computing cross entropy per sample\n",
        "    cross_entropy = -torch.sum(ts * torch.log(ys), dim=1, keepdim=False)        \n",
        "    # averaging over samples\n",
        "    average = torch.mean(cross_entropy)    \n",
        "    return average"
      ],
      "execution_count": 0,
      "outputs": []
    },
    {
      "cell_type": "markdown",
      "metadata": {
        "id": "HKupjZpC7LRJ",
        "colab_type": "text"
      },
      "source": [
        "To train our neural network we need to update the parameters in direction of the negative gradient w.r.t the cost function we defined earlier.\n",
        "We can use [`torch.optim`](http://pytorch.org/docs/master/optim.html) to get the gradients with some update rule for all parameters in the network.\n",
        "\n",
        "Heres a small animation of gradient descent: http://imgur.com/a/Hqolp, which also illustrates which challenges optimizers might face, e.g. saddle points."
      ]
    },
    {
      "cell_type": "code",
      "metadata": {
        "id": "fJV7OBqe7LRK",
        "colab_type": "code",
        "colab": {}
      },
      "source": [
        "import torch.optim as optim\n",
        "optimizer = optim.SGD(net.parameters(), lr=0.01)"
      ],
      "execution_count": 0,
      "outputs": []
    },
    {
      "cell_type": "markdown",
      "metadata": {
        "id": "60mgWp2j7LRK",
        "colab_type": "text"
      },
      "source": [
        "Next, we make the prediction functions, such that we can get an accuracy measure over a batch"
      ]
    },
    {
      "cell_type": "code",
      "metadata": {
        "id": "aQBXwBIw7LRK",
        "colab_type": "code",
        "colab": {}
      },
      "source": [
        "def accuracy(ys, ts):    \n",
        "    # making a one-hot encoded vector of correct (1) and incorrect (0) predictions\n",
        "    correct_prediction = torch.eq(torch.max(ys, 1)[1], torch.max(ts, 1)[1])    \n",
        "    # averaging the one-hot encoded vector\n",
        "    return torch.mean(correct_prediction.float())"
      ],
      "execution_count": 0,
      "outputs": []
    },
    {
      "cell_type": "markdown",
      "metadata": {
        "id": "kl48NPDf7LRL",
        "colab_type": "text"
      },
      "source": [
        "The next step is to utilize our `optimizer` repeatedly in order to optimize our weights `W_1` and `b_1` to make the best possible linear seperation of the half moon dataset."
      ]
    },
    {
      "cell_type": "code",
      "metadata": {
        "scrolled": false,
        "id": "34KyfWEd7LRL",
        "colab_type": "code",
        "colab": {}
      },
      "source": [
        "# number of training passses\n",
        "num_epochs = 1000\n",
        "\n",
        "# store loss and accuracy for information\n",
        "train_losses, val_losses, train_accs, val_accs = [], [], [], []"
      ],
      "execution_count": 0,
      "outputs": []
    },
    {
      "cell_type": "code",
      "metadata": {
        "scrolled": false,
        "id": "uFv7whuD7LRM",
        "colab_type": "code",
        "colab": {}
      },
      "source": [
        "def pred(X):\n",
        "    \"\"\" Compute graph's prediction and return numpy array\n",
        "    \n",
        "    Parameters\n",
        "    ----------\n",
        "    X : numpy.ndarray\n",
        "    \n",
        "    Returns\n",
        "    -------\n",
        "    numpy.ndarray\n",
        "    \"\"\"\n",
        "    X = Variable(torch.from_numpy(X))\n",
        "    y = net(X)\n",
        "    \n",
        "    return y.data.numpy()"
      ],
      "execution_count": 0,
      "outputs": []
    },
    {
      "cell_type": "code",
      "metadata": {
        "scrolled": false,
        "id": "Y-YVkv9c7LRM",
        "colab_type": "code",
        "outputId": "fff6e1fc-8098-4b33-b404-1d91a99eecef",
        "colab": {
          "base_uri": "https://localhost:8080/",
          "height": 298
        }
      },
      "source": [
        "# plot boundary on testset before training session\n",
        "\n",
        "# lambda arguments: expression \n",
        "y = lambda x: pred(x)\n",
        "\n",
        "# plot_decision_boundary(pred_func, X, y):\n",
        "\n",
        "plot_decision_boundary(y, X_te, y_te)\n",
        "plt.title(\"Untrained Classifier\")"
      ],
      "execution_count": 75,
      "outputs": [
        {
          "output_type": "execute_result",
          "data": {
            "text/plain": [
              "Text(0.5, 1.0, 'Untrained Classifier')"
            ]
          },
          "metadata": {
            "tags": []
          },
          "execution_count": 75
        },
        {
          "output_type": "display_data",
          "data": {
            "image/png": "[encoded data removed]",
            "text/plain": [
              "<Figure size 432x288 with 1 Axes>"
            ]
          },
          "metadata": {
            "tags": []
          }
        }
      ]
    },
    {
      "cell_type": "code",
      "metadata": {
        "scrolled": false,
        "id": "yXnPc9z97LRY",
        "colab_type": "code",
        "outputId": "46863f6f-7263-4a4a-ad08-928d66c34997",
        "colab": {
          "base_uri": "https://localhost:8080/",
          "height": 527
        }
      },
      "source": [
        "for e in range(num_epochs):\n",
        "    tr_input = Variable(torch.from_numpy(X_tr))\n",
        "    tr_targets = Variable(torch.from_numpy(onehot(y_tr, num_output))).float()\n",
        "    optimizer.zero_grad()\n",
        "    tr_output = net(tr_input)    \n",
        "    tr_loss = cross_entropy(tr_output, tr_targets)    \n",
        "    tr_loss.backward()   \n",
        "    optimizer.step()\n",
        "    \n",
        "    train_losses.append(tr_loss.data.numpy())\n",
        "    val_input = Variable(torch.from_numpy(X_val))\n",
        "    val_targets = Variable(torch.from_numpy(onehot(y_val, num_output))).float()\n",
        "\n",
        "    val_output = net(val_input)\n",
        "    \n",
        "    val_loss = cross_entropy(val_output, val_targets)\n",
        "\n",
        "    val_losses.append(val_loss.data.numpy())\n",
        "    if e % 100 == 0:\n",
        "        print(\"Epoch %i\", e)\n",
        "        print(\"Train Cost\", train_losses[-1])\n",
        "        print(\"Validation Cost\", val_losses[-1])        "
      ],
      "execution_count": 76,
      "outputs": [
        {
          "output_type": "stream",
          "text": [
            "Epoch %i 0\n",
            "Train Cost 3.1364965\n",
            "Validation Cost 2.9443662\n",
            "Epoch %i 100\n",
            "Train Cost 2.1871653\n",
            "Validation Cost 2.084443\n",
            "Epoch %i 200\n",
            "Train Cost 1.4593245\n",
            "Validation Cost 1.4259024\n",
            "Epoch %i 300\n",
            "Train Cost 1.0254993\n",
            "Validation Cost 1.0285963\n",
            "Epoch %i 400\n",
            "Train Cost 0.7915977\n",
            "Validation Cost 0.8080342\n",
            "Epoch %i 500\n",
            "Train Cost 0.6598706\n",
            "Validation Cost 0.6795213\n",
            "Epoch %i 600\n",
            "Train Cost 0.57962376\n",
            "Validation Cost 0.5990797\n",
            "Epoch %i 700\n",
            "Train Cost 0.5269239\n",
            "Validation Cost 0.5453143\n",
            "Epoch %i 800\n",
            "Train Cost 0.49001527\n",
            "Validation Cost 0.5073231\n",
            "Epoch %i 900\n",
            "Train Cost 0.462766\n",
            "Validation Cost 0.4792211\n"
          ],
          "name": "stdout"
        }
      ]
    },
    {
      "cell_type": "code",
      "metadata": {
        "scrolled": false,
        "id": "Ymt-gIfK7LRY",
        "colab_type": "code",
        "colab": {}
      },
      "source": [
        "te_input = Variable(torch.from_numpy(X_te))\n",
        "te_targets = Variable(torch.from_numpy(onehot(y_te, num_output))).float()"
      ],
      "execution_count": 0,
      "outputs": []
    },
    {
      "cell_type": "code",
      "metadata": {
        "scrolled": false,
        "id": "YKsSiDqV7LRZ",
        "colab_type": "code",
        "colab": {}
      },
      "source": [
        "te_output = net(te_input)"
      ],
      "execution_count": 0,
      "outputs": []
    },
    {
      "cell_type": "code",
      "metadata": {
        "scrolled": false,
        "id": "63CtDl987LRZ",
        "colab_type": "code",
        "outputId": "24167b2b-fc2e-4239-f851-83618e4fbaa9",
        "colab": {
          "base_uri": "https://localhost:8080/",
          "height": 51
        }
      },
      "source": [
        "te_loss = cross_entropy(te_output, te_targets)\n",
        "print(\"\\nTest Cost:\", te_loss.data.numpy())"
      ],
      "execution_count": 79,
      "outputs": [
        {
          "output_type": "stream",
          "text": [
            "\n",
            "Test Cost: 0.42000043\n"
          ],
          "name": "stdout"
        }
      ]
    },
    {
      "cell_type": "code",
      "metadata": {
        "scrolled": false,
        "id": "nxT7W9G17LRe",
        "colab_type": "code",
        "outputId": "bf41bfa8-8268-47a9-ab95-92c356d5be74",
        "colab": {
          "base_uri": "https://localhost:8080/",
          "height": 298
        }
      },
      "source": [
        "plot_decision_boundary(lambda x: pred(x), X_te, y_te)\n",
        "plt.title(\"Trained Classifier\")"
      ],
      "execution_count": 80,
      "outputs": [
        {
          "output_type": "execute_result",
          "data": {
            "text/plain": [
              "Text(0.5, 1.0, 'Trained Classifier')"
            ]
          },
          "metadata": {
            "tags": []
          },
          "execution_count": 80
        },
        {
          "output_type": "display_data",
          "data": {
            "image/png": "[encoded data removed]",
            "text/plain": [
              "<Figure size 432x288 with 1 Axes>"
            ]
          },
          "metadata": {
            "tags": []
          }
        }
      ]
    },
    {
      "cell_type": "code",
      "metadata": {
        "scrolled": false,
        "id": "eCgM3reW7LRg",
        "colab_type": "code",
        "outputId": "4e6d3f95-3d48-497f-cf71-1c04118dc46b",
        "colab": {
          "base_uri": "https://localhost:8080/",
          "height": 279
        }
      },
      "source": [
        "plt.figure()\n",
        "epoch = np.arange(len(train_losses))\n",
        "\n",
        "plt.plot(epoch, train_losses, 'r', label='Train Loss')\n",
        "plt.plot(epoch[:1000:], val_losses, 'b', label='Val Loss')\n",
        "plt.legend()\n",
        "plt.xlabel('Updates')\n",
        "plt.ylabel('Loss')\n",
        "plt.show()"
      ],
      "execution_count": 81,
      "outputs": [
        {
          "output_type": "display_data",
          "data": {
            "image/png": "[encoded data removed]",
            "text/plain": [
              "<Figure size 432x288 with 1 Axes>"
            ]
          },
          "metadata": {
            "tags": []
          }
        }
      ]
    },
    {
      "cell_type": "markdown",
      "metadata": {
        "id": "OEYfKif77LRh",
        "colab_type": "text"
      },
      "source": [
        "# Assignments\n",
        "\n",
        "1. A linear logistic classifier is only able to create a linear decision boundary. Change the Logistic classifier into a (nonlinear) Neural network by inserting a dense hidden layer between the input and output layers of the model\n",
        " \n",
        "2. Experiment with multiple hidden layers or more / less hidden units. What happens to the decision boundary?\n",
        " \n",
        "3. Overfitting: When increasing the number of hidden layers / units the neural network will fit the training data better by creating a highly nonlinear decision boundary. If the model is to complex it will often generalize poorly to new data (validation and test set). Can you observe this from the training and validation errors? \n",
        " \n",
        "4. We used the vanilla stocastic gradient descent algorithm for parameter updates. This is usually slow to converge and more sophisticated pseudo-second-order methods usually works better. Try changing the optimizer to [adam or momentum](http://pytorch.org/docs/master/optim.html#torch.optim.Adam)"
      ]
    },
    {
      "cell_type": "code",
      "metadata": {
        "id": "tYnSXvFX-eGB",
        "colab_type": "code",
        "colab": {
          "base_uri": "https://localhost:8080/",
          "height": 34
        },
        "outputId": "c9ef36f9-3fa6-4298-9f2c-774254d0a065"
      },
      "source": [
        "class Net(nn.Module):\n",
        "    def __init__(self):  \n",
        "        \n",
        "        super(Net, self).__init__()   \n",
        "\n",
        "        self.W_1 = Parameter(torch.randn(num_output, num_features)) \n",
        "        self.b_1 = Parameter(torch.randn(num_output))\n",
        "\n",
        "        self.W_2 = Parameter(torch.randn(num_features, num_output)) \n",
        "        self.b_2 = self.b_1 = Parameter(torch.randn(num_features))\n",
        "        \n",
        "       \n",
        "    def forward(self, x):      \n",
        "        \n",
        "        # linear transformation to the incoming data: :math:`y = xW^T + b` \n",
        "        x = F.linear(x, self.W_1, self.b_1)\n",
        "        \n",
        "        # second layer \n",
        "        x = F.linear(x, self.W_2, self.b_2)      \n",
        "        \n",
        "        # softmax performed on the second dimension\n",
        "        xSoftmax = F.softmax(x, dim = 1)\n",
        "        \n",
        "        return xSoftmax\n",
        "\n",
        "net = Net()\n",
        "print(net)"
      ],
      "execution_count": 82,
      "outputs": [
        {
          "output_type": "stream",
          "text": [
            "Net()\n"
          ],
          "name": "stdout"
        }
      ]
    },
    {
      "cell_type": "code",
      "metadata": {
        "id": "AkjGgYbl-tr1",
        "colab_type": "code",
        "colab": {}
      },
      "source": [
        "import torch.optim as optim\n",
        "optimizer = optim.Adam(net.parameters(), lr=0.01)"
      ],
      "execution_count": 0,
      "outputs": []
    },
    {
      "cell_type": "code",
      "metadata": {
        "id": "5GjRtB9y-wXl",
        "colab_type": "code",
        "colab": {
          "base_uri": "https://localhost:8080/",
          "height": 298
        },
        "outputId": "39163fa4-e44a-4a05-853e-7e56ad6e19f8"
      },
      "source": [
        "num_epochs = 1000\n",
        "train_losses, val_losses, train_accs, val_accs = [], [], [], []\n",
        "y = lambda x: pred(x)\n",
        "plot_decision_boundary(y, X_te, y_te)\n",
        "plt.title(\"Untrained Classifier\")"
      ],
      "execution_count": 84,
      "outputs": [
        {
          "output_type": "execute_result",
          "data": {
            "text/plain": [
              "Text(0.5, 1.0, 'Untrained Classifier')"
            ]
          },
          "metadata": {
            "tags": []
          },
          "execution_count": 84
        },
        {
          "output_type": "display_data",
          "data": {
            "image/png": "[encoded data removed]",
            "text/plain": [
              "<Figure size 432x288 with 1 Axes>"
            ]
          },
          "metadata": {
            "tags": []
          }
        }
      ]
    },
    {
      "cell_type": "code",
      "metadata": {
        "id": "7Y-fYfMf_CSB",
        "colab_type": "code",
        "colab": {
          "base_uri": "https://localhost:8080/",
          "height": 527
        },
        "outputId": "977a81be-99b1-440e-81ba-882f13dae3c3"
      },
      "source": [
        "# training loop\n",
        "for e in range(num_epochs):\n",
        "    tr_input = Variable(torch.from_numpy(X_tr))\n",
        "    tr_targets = Variable(torch.from_numpy(onehot(y_tr, num_output))).float()\n",
        "    optimizer.zero_grad()\n",
        "  \n",
        "    tr_output = net(tr_input)    \n",
        "\n",
        "    tr_loss = cross_entropy(tr_output, tr_targets)    \n",
        "    tr_loss.backward()   \n",
        "    optimizer.step()\n",
        "    train_losses.append(tr_loss.data.numpy())\n",
        "    val_input = Variable(torch.from_numpy(X_val))\n",
        "    val_targets = Variable(torch.from_numpy(onehot(y_val, num_output))).float()\n",
        "    \n",
        "    # predict with validation input\n",
        "    val_output = net(val_input)\n",
        "    \n",
        "    # compute loss \n",
        "    val_loss = cross_entropy(val_output, val_targets)\n",
        "    \n",
        "    # store loss\n",
        "    val_losses.append(val_loss.data.numpy())\n",
        "        \n",
        "    if e % 100 == 0:\n",
        "        print(\"Epoch %i\", e)\n",
        "        print(\"Train Cost\", train_losses[-1])\n",
        "        print(\"Validation Cost\", val_losses[-1])"
      ],
      "execution_count": 85,
      "outputs": [
        {
          "output_type": "stream",
          "text": [
            "Epoch %i 0\n",
            "Train Cost 1.1493713\n",
            "Validation Cost 1.2698135\n",
            "Epoch %i 100\n",
            "Train Cost 0.3219733\n",
            "Validation Cost 0.33819354\n",
            "Epoch %i 200\n",
            "Train Cost 0.3022701\n",
            "Validation Cost 0.33308536\n",
            "Epoch %i 300\n",
            "Train Cost 0.30222774\n",
            "Validation Cost 0.33370212\n",
            "Epoch %i 400\n",
            "Train Cost 0.30222777\n",
            "Validation Cost 0.333701\n",
            "Epoch %i 500\n",
            "Train Cost 0.3022278\n",
            "Validation Cost 0.333701\n",
            "Epoch %i 600\n",
            "Train Cost 0.3022278\n",
            "Validation Cost 0.333701\n",
            "Epoch %i 700\n",
            "Train Cost 0.3022278\n",
            "Validation Cost 0.333701\n",
            "Epoch %i 800\n",
            "Train Cost 0.3022278\n",
            "Validation Cost 0.333701\n",
            "Epoch %i 900\n",
            "Train Cost 0.30222774\n",
            "Validation Cost 0.333701\n"
          ],
          "name": "stdout"
        }
      ]
    },
    {
      "cell_type": "code",
      "metadata": {
        "id": "g_iUQNAY_TBq",
        "colab_type": "code",
        "colab": {
          "base_uri": "https://localhost:8080/",
          "height": 51
        },
        "outputId": "7f600bc4-6c55-4438-dda3-2a5d3690d271"
      },
      "source": [
        "te_input = Variable(torch.from_numpy(X_te))\n",
        "te_targets = Variable(torch.from_numpy(onehot(y_te, num_output))).float()\n",
        "\n",
        "# predict on testset\n",
        "te_output = net(te_input)\n",
        "\n",
        "# compute loss and accuracy, and calculate cost\n",
        "te_loss = cross_entropy(te_output, te_targets)\n",
        "print(\"\\nTest Cost:\", te_loss.data.numpy())"
      ],
      "execution_count": 86,
      "outputs": [
        {
          "output_type": "stream",
          "text": [
            "\n",
            "Test Cost: 0.27013606\n"
          ],
          "name": "stdout"
        }
      ]
    },
    {
      "cell_type": "code",
      "metadata": {
        "id": "A6MMWt_l_Vqc",
        "colab_type": "code",
        "colab": {
          "base_uri": "https://localhost:8080/",
          "height": 298
        },
        "outputId": "37e1b548-4706-4eca-901b-4b7c19d0261d"
      },
      "source": [
        "plot_decision_boundary(lambda x: pred(x), X_te, y_te)\n",
        "plt.title(\"Trained Classifier\")"
      ],
      "execution_count": 87,
      "outputs": [
        {
          "output_type": "execute_result",
          "data": {
            "text/plain": [
              "Text(0.5, 1.0, 'Trained Classifier')"
            ]
          },
          "metadata": {
            "tags": []
          },
          "execution_count": 87
        },
        {
          "output_type": "display_data",
          "data": {
            "image/png": "[encoded data removed]",
            "text/plain": [
              "<Figure size 432x288 with 1 Axes>"
            ]
          },
          "metadata": {
            "tags": []
          }
        }
      ]
    },
    {
      "cell_type": "markdown",
      "metadata": {
        "id": "46Rq0mos7LRh",
        "colab_type": "text"
      },
      "source": [
        "When you're done, continue to the next part of this lab."
      ]
    },
    {
      "cell_type": "markdown",
      "metadata": {
        "id": "exCxUv767LRh",
        "colab_type": "text"
      },
      "source": [
        "# Credits\n",
        "> This code is a slight modification to a translation (TensorFlow --> PyTorch) of a previous version of the [02456](http://kurser.dtu.dk/course/02456) course material. \n",
        "> [Original repo link (TensorFlow)](https://github.com/DeepLearningDTU/02456-deep-learning).\n",
        "> [Translated repo link (PyTorch)](https://github.com/munkai/pytorch-tutorial/tree/master/2_intermediate)."
      ]
    },
    {
      "cell_type": "code",
      "metadata": {
        "id": "zYWG__UX7LRh",
        "colab_type": "code",
        "colab": {
          "base_uri": "https://localhost:8080/",
          "height": 190
        },
        "outputId": "4725b95b-1a4b-4690-c3bd-325422b1a5ff"
      },
      "source": [
        "import torch\n",
        "from torch.autograd import Variable\n",
        "from torch.nn.parameter import Parameter\n",
        "\n",
        "import torch.nn as nn\n",
        "import torch.nn.functional as F\n",
        "import torch.optim as optim\n",
        "import torch.nn.init as init\n",
        "\n",
        "%matplotlib inline\n",
        "import matplotlib\n",
        "import numpy as np\n",
        "import matplotlib.pyplot as plt\n",
        "!pip install wget"
      ],
      "execution_count": 88,
      "outputs": [
        {
          "output_type": "stream",
          "text": [
            "Collecting wget\n",
            "  Downloading https://files.pythonhosted.org/packages/47/6a/62e288da7bcda82b935ff0c6cfe542970f04e29c756b0e147251b2fb251f/wget-3.2.zip\n",
            "Building wheels for collected packages: wget\n",
            "  Building wheel for wget (setup.py) ... \u001b[?25l\u001b[?25hdone\n",
            "  Created wheel for wget: filename=wget-3.2-cp36-none-any.whl size=9681 sha256=d0a8fd34cd1d030ddb0da7406929d5c567e8c3e5512c1d598a9b3befda9a14d6\n",
            "  Stored in directory: /root/.cache/pip/wheels/40/15/30/7d8f7cea2902b4db79e3fea550d7d7b85ecb27ef992b618f3f\n",
            "Successfully built wget\n",
            "Installing collected packages: wget\n",
            "Successfully installed wget-3.2\n"
          ],
          "name": "stdout"
        }
      ]
    },
    {
      "cell_type": "markdown",
      "metadata": {
        "id": "-EpYwvJ17LRi",
        "colab_type": "text"
      },
      "source": [
        "# MNIST dataset\n",
        "MNIST is a dataset that is often used for benchmarking. The MNIST dataset consists of 70,000 images of handwritten digits from 0-9. The dataset is split into a 50,000 images training set, 10,000 images validation set and 10,000 images test set. The images are 28x28 pixels, where each pixel represents a normalised value between 0-255 `(0=black and 255=white)`.\n",
        "\n",
        "![MNIST.Exampel](../static_files/mnist.png)\n",
        "\n",
        "\n",
        "## Primer\n",
        "We use a feedforward neural network to classify the 28x28 mnist images. `num_features` is therefore $28 * 28=784$, i.e. we represent each image as a vector. The ordering of the pixels in the vector does not matter, so we could permutate all images using the same permutation and still get the same performance. (You are of course encouraged to try this using ``numpy.random.permutation`` to get a random permutation. This task is therefore called the _permutation invariant_ MNIST. Obviously this throws away a lot of structure in the data. In the next module we'll fix this with the convolutional neural network wich encodes prior knowledgde about data that has either spatial or temporal structure.  "
      ]
    },
    {
      "cell_type": "markdown",
      "metadata": {
        "id": "gNHpsrK87LRi",
        "colab_type": "text"
      },
      "source": [
        "## MNIST\n",
        "First let's load the MNIST dataset and plot a few examples:"
      ]
    },
    {
      "cell_type": "code",
      "metadata": {
        "id": "ADFUUk6C7LRr",
        "colab_type": "code",
        "colab": {}
      },
      "source": [
        "import wget"
      ],
      "execution_count": 0,
      "outputs": []
    },
    {
      "cell_type": "code",
      "metadata": {
        "id": "eRb0nKfr7LRs",
        "colab_type": "code",
        "outputId": "cadeeb0d-91d8-4f3d-e1fc-adff594f7b2f",
        "colab": {
          "base_uri": "https://localhost:8080/",
          "height": 34
        }
      },
      "source": [
        "wget.download('https://github.com/maximai/placeholder_repo/raw/master/mnist.npz')"
      ],
      "execution_count": 90,
      "outputs": [
        {
          "output_type": "execute_result",
          "data": {
            "text/plain": [
              "'mnist.npz'"
            ]
          },
          "metadata": {
            "tags": []
          },
          "execution_count": 90
        }
      ]
    },
    {
      "cell_type": "code",
      "metadata": {
        "id": "4aYicCYC7LRv",
        "colab_type": "code",
        "colab": {}
      },
      "source": [
        "#To speed up training we'll only work on a subset of the data\n",
        "data = np.load('mnist.npz')\n",
        "num_classes = 10"
      ],
      "execution_count": 0,
      "outputs": []
    },
    {
      "cell_type": "code",
      "metadata": {
        "id": "OIOQE1HK7LRw",
        "colab_type": "code",
        "outputId": "30f9e4be-a82b-4b10-ac1e-b42d5cb7a1a4",
        "colab": {
          "base_uri": "https://localhost:8080/",
          "height": 136
        }
      },
      "source": [
        "x_train = data['X_train'][:1000].astype('float32')\n",
        "targets_train = data['y_train'][:1000].astype('int32')\n",
        "\n",
        "x_valid = data['X_valid'][:500].astype('float32')\n",
        "targets_valid = data['y_valid'][:500].astype('int32')\n",
        "\n",
        "x_test = data['X_test'][:500].astype('float32')\n",
        "targets_test = data['y_test'][:500].astype('int32')\n",
        "\n",
        "print(\"Information on dataset\")\n",
        "print(\"x_train\", x_train.shape)\n",
        "\n",
        "print(\"targets_train\", targets_train.shape)\n",
        "print(\"x_valid\", x_valid.shape)\n",
        "\n",
        "print(\"targets_valid\", targets_valid.shape)\n",
        "print(\"x_test\", x_test.shape)\n",
        "\n",
        "print(\"targets_test\", targets_test.shape)"
      ],
      "execution_count": 92,
      "outputs": [
        {
          "output_type": "stream",
          "text": [
            "Information on dataset\n",
            "x_train (1000, 784)\n",
            "targets_train (1000,)\n",
            "x_valid (500, 784)\n",
            "targets_valid (500,)\n",
            "x_test (500, 784)\n",
            "targets_test (500,)\n"
          ],
          "name": "stdout"
        }
      ]
    },
    {
      "cell_type": "code",
      "metadata": {
        "id": "vT1XBhqi7LRy",
        "colab_type": "code",
        "outputId": "1b8e9681-3a20-4d74-bc10-6b948ba75fef",
        "colab": {
          "base_uri": "https://localhost:8080/",
          "height": 34
        }
      },
      "source": [
        "data"
      ],
      "execution_count": 93,
      "outputs": [
        {
          "output_type": "execute_result",
          "data": {
            "text/plain": [
              "<numpy.lib.npyio.NpzFile at 0x7f4566ef7978>"
            ]
          },
          "metadata": {
            "tags": []
          },
          "execution_count": 93
        }
      ]
    },
    {
      "cell_type": "code",
      "metadata": {
        "scrolled": false,
        "id": "NVYzCgGn7LR1",
        "colab_type": "code",
        "outputId": "cd84cd10-6773-49ea-dd0e-183079b7daa1",
        "colab": {
          "base_uri": "https://localhost:8080/",
          "height": 264
        }
      },
      "source": [
        "#plot a few MNIST examples\n",
        "idx, dim, classes = 0, 28, 10\n",
        "# create empty canvas\n",
        "canvas = np.zeros((dim*classes, classes*dim))\n",
        "\n",
        "# fill with tensors\n",
        "for i in range(classes):\n",
        "    for j in range(classes):\n",
        "        canvas[i*dim:(i+1)*dim, j*dim:(j+1)*dim] = x_train[idx].reshape((dim, dim))\n",
        "        idx += 1\n",
        "\n",
        "# visualize matrix of tensors as gray scale image\n",
        "plt.figure(figsize=(4, 4))\n",
        "plt.axis('off')\n",
        "plt.imshow(canvas, cmap='gray')\n",
        "plt.title('MNIST handwritten digits')\n",
        "plt.show()"
      ],
      "execution_count": 94,
      "outputs": [
        {
          "output_type": "display_data",
          "data": {
            "image/png": "[encoded data removed]",
            "text/plain": [
              "<Figure size 288x288 with 1 Axes>"
            ]
          },
          "metadata": {
            "tags": []
          }
        }
      ]
    },
    {
      "cell_type": "markdown",
      "metadata": {
        "id": "8vUphlSS7LR2",
        "colab_type": "text"
      },
      "source": [
        "## Model\n",
        "\n",
        "One of the large challenges in deep learning is the amount of hyperparameters that needs to be selected, and the lack of a good principled way of selecting them.\n",
        "Hyperparameters can be found by experience (guessing) or some search procedure (often quite slow).\n",
        "Random search is easy to implement and performs decent: http://www.jmlr.org/papers/volume13/bergstra12a/bergstra12a.pdf . \n",
        "More advanced search procedures include [Spearmint](https://github.com/JasperSnoek/spearmint) and many others.\n",
        "\n",
        "**In practice a lot of trial and error is almost always involved.** This can be frustrating and time consuming, but the best thing to do is to think as a scientist, and go about it in a ordered manner --> monitor as much as you can, take notes, and be deliberate!\n",
        "\n",
        "Below are some guidelines that you can use as a starting point to some of the most important hyperparameters. \n",
        "(*regularization* is also very important, but will be covered later.)\n",
        "\n",
        "\n",
        "### Ballpark estimates of hyperparameters\n",
        "__Number of hidden units and network structure:__\n",
        "You'll have to experiment. One rarely goes below 512 units for feedforward networks (unless your are training on CPU...).\n",
        "There's some research into stochastic depth networks: https://arxiv.org/pdf/1603.09382v2.pdf, but in general this is trial and error.\n",
        "\n",
        "__Parameter initialization:__\n",
        "Parameter initialization is extremely important.\n",
        "PyTorch has a lot of different initializers, check the [PyTorch API](http://pytorch.org/docs/master/nn.html#torch-nn-init). Often used initializer are\n",
        "1. Kaming He\n",
        "2. Xavier Glorot\n",
        "3. Uniform or Normal with small scale (0.1 - 0.01)\n",
        "4. Orthogonal (this usually works very well for RNNs)\n",
        "\n",
        "Bias is nearly always initialized to zero using the [torch.nn.init.constant(tensor, val)](http://pytorch.org/docs/master/nn.html#torch.nn.init.constant)\n",
        "\n",
        "__Mini-batch size:__\n",
        "Usually people use 16-256. Bigger is not allways better. With smaller mini-batch size you get more updates and your model might converge faster. Also small batch sizes use less memory, which means you can train a model with more parameters.\n",
        "\n",
        "__Nonlinearity:__ [The most commonly used nonliearities are](http://pytorch.org/docs/master/nn.html#non-linear-activations)\n",
        "1. ReLU\n",
        "2. Leaky ReLU\n",
        "3. Elu - Exponential linear unit\n",
        "3. Sigmoid squash the output [0, 1], and are used if your output is binary (not used in the hidden layers)\n",
        "4. Tanh is similar to sigmoid, but squashes in [-1, 1]. It is rarely used any more.\n",
        "4. Softmax normalizes the the output to 1, and is used as output if you have a classification problem\n",
        "\n",
        "See the plot below.\n",
        "\n",
        "__Optimizer and learning rate:__\n",
        "1. SGD + Momentum: learning rate 1.0 - 0.1 \n",
        "2. ADAM: learning rate 3*1e-4 - 1e-5\n",
        "3. RMSPROP: somewhere between SGD and ADAM\n"
      ]
    },
    {
      "cell_type": "code",
      "metadata": {
        "id": "JK-VFf-E7LR2",
        "colab_type": "code",
        "outputId": "c5e67c41-7f19-4ea9-a56b-371cede5a6d1",
        "colab": {
          "base_uri": "https://localhost:8080/",
          "height": 358
        }
      },
      "source": [
        "# Illustrate different output units\n",
        "x = np.linspace(-6, 6, 100)\n",
        "units = {\n",
        "    \"ReLU\": lambda x: np.maximum(0, x),\n",
        "    \"Leaky ReLU\": lambda x: np.maximum(0, x) + 0.1 * np.minimum(0, x),\n",
        "    \"Elu\": lambda x: (x > 0) * x + (1 - (x > 0)) * (np.exp(x) - 1),\n",
        "    \"Sigmoid\": lambda x: (1 + np.exp(-x))**(-1),\n",
        "    \"tanh\": lambda x: (np.exp(x) - np.exp(-x)) / (np.exp(x) + np.exp(-x))\n",
        "}\n",
        "\n",
        "plt.figure(figsize=(5, 5))\n",
        "[plt.plot(x, unit(x), label=unit_name, lw=2) for unit_name, unit in units.items()]\n",
        "plt.legend(loc=2, fontsize=16)\n",
        "plt.title('Non-linearities', fontsize=20)\n",
        "plt.ylim([-2, 5])\n",
        "plt.xlim([-6, 6])\n",
        "\n",
        "# assert that all class probablities sum to one\n",
        "softmax = lambda x: np.exp(x) / np.sum(np.exp(x))\n",
        "print(\"softmax should sum to one (approxiamtely):\", np.sum(softmax(x)))"
      ],
      "execution_count": 95,
      "outputs": [
        {
          "output_type": "stream",
          "text": [
            "softmax should sum to one (approxiamtely): 1.0\n"
          ],
          "name": "stdout"
        },
        {
          "output_type": "display_data",
          "data": {
            "image/png": "[encoded data removed]",
            "text/plain": [
              "<Figure size 360x360 with 1 Axes>"
            ]
          },
          "metadata": {
            "tags": []
          }
        }
      ]
    },
    {
      "cell_type": "code",
      "metadata": {
        "id": "JZF5c4kN7LR2",
        "colab_type": "code",
        "colab": {}
      },
      "source": [
        "#Hyperparameters\n",
        "num_classes = 10\n",
        "num_l1 = 512\n",
        "num_features = x_train.shape[1]\n",
        "\n",
        "# define network\n",
        "class Net(nn.Module):\n",
        "\n",
        "    def __init__(self, num_features, num_hidden, num_output):\n",
        "        super(Net, self).__init__()  \n",
        "        # input layer\n",
        "        self.W_1 = Parameter(init.xavier_normal_(torch.Tensor(num_hidden, num_features)))\n",
        "        self.b_1 = Parameter(init.constant_(torch.Tensor(num_hidden), 0))\n",
        "        \n",
        "        # hidden layer\n",
        "        self.W_2 = Parameter(init.xavier_normal_(torch.Tensor(num_output, num_hidden)))\n",
        "        self.b_2 = Parameter(init.constant_(torch.Tensor(num_output), 0))\n",
        "        \n",
        "        # define activation function in constructor\n",
        "        self.activation = torch.nn.ELU()\n",
        "\n",
        "    def forward(self, x):\n",
        "        x = F.linear(x, self.W_1, self.b_1)\n",
        "        \n",
        "        x = self.activation(x)\n",
        "        \n",
        "        x = F.linear(x, self.W_2, self.b_2)\n",
        "        \n",
        "        return F.softmax(x, dim=1)\n",
        "\n",
        "\n",
        "net = Net(num_features, num_l1, num_classes)"
      ],
      "execution_count": 0,
      "outputs": []
    },
    {
      "cell_type": "code",
      "metadata": {
        "id": "UndcJUAn7LR3",
        "colab_type": "code",
        "colab": {}
      },
      "source": [
        "optimizer = optim.SGD(net.parameters(), lr=0.1)\n",
        "criterion = nn.CrossEntropyLoss()"
      ],
      "execution_count": 0,
      "outputs": []
    },
    {
      "cell_type": "code",
      "metadata": {
        "id": "UzR8Er_O7LR3",
        "colab_type": "code",
        "outputId": "a1d5b3bc-1899-4280-c23b-eaae07d674f1",
        "colab": {
          "base_uri": "https://localhost:8080/",
          "height": 34
        }
      },
      "source": [
        "#Test the forward pass with dummy data\n",
        "x = np.random.normal(0, 1, (45, dim*dim)).astype('float32')\n",
        "\n",
        "print(net(Variable(torch.from_numpy(x))).size())"
      ],
      "execution_count": 98,
      "outputs": [
        {
          "output_type": "stream",
          "text": [
            "torch.Size([45, 10])\n"
          ],
          "name": "stdout"
        }
      ]
    },
    {
      "cell_type": "markdown",
      "metadata": {
        "id": "NnpcC9Bq7LR4",
        "colab_type": "text"
      },
      "source": [
        "# Build the training loop\n",
        "\n",
        "We train the network by calculating the gradient w.r.t the cost function and update the parameters in direction of the negative gradient. \n",
        "\n",
        "\n",
        "When training neural network you always use mini batches. Instead of calculating the average gradient using the entire dataset you approximate the gradient using a mini-batch of typically 16 to 256 samples. The paramters are updated after each mini batch. Networks converge much faster using mini batches because the parameters are updated more often.\n",
        "\n",
        "We build a loop that iterates over the training data. Remember that the parameters are updated each time ``optimizer.step()`` is called."
      ]
    },
    {
      "cell_type": "code",
      "metadata": {
        "id": "1luVEQpe7LR4",
        "colab_type": "code",
        "colab": {}
      },
      "source": [
        "# we could have done this ourselves,\n",
        "# but we should be aware of sklearn and it's tools\n",
        "from sklearn.metrics import accuracy_score\n",
        "\n",
        "# setting hyperparameters and gettings epoch sizes\n",
        "batch_size = 100\n",
        "num_epochs = 100\n",
        "num_samples_train = x_train.shape[0]\n",
        "num_batches_train = num_samples_train // batch_size\n",
        "num_samples_valid = x_valid.shape[0]\n",
        "num_batches_valid = num_samples_valid // batch_size\n",
        "\n",
        "# setting up lists for handling loss/accuracy\n",
        "train_acc, train_loss = [], []\n",
        "valid_acc, valid_loss = [], []\n",
        "test_acc, test_loss = [], []\n",
        "cur_loss = 0\n",
        "losses = []\n",
        "\n",
        "get_slice = lambda i, size: range(i * size, (i + 1) * size)"
      ],
      "execution_count": 0,
      "outputs": []
    },
    {
      "cell_type": "code",
      "metadata": {
        "id": "2Y9CKi587LR5",
        "colab_type": "code",
        "outputId": "edf8522c-e746-4f95-c74e-6bd787a96157",
        "colab": {
          "base_uri": "https://localhost:8080/",
          "height": 187
        }
      },
      "source": [
        "for epoch in range(num_epochs):\n",
        "    # Forward -> Backprob -> Update params\n",
        "    \n",
        "    ## Train\n",
        "    cur_loss = 0\n",
        "    net.train()\n",
        "    \n",
        "    for i in range(num_batches_train):\n",
        "        \n",
        "        slce = get_slice(i, batch_size)\n",
        "        x_batch = Variable(torch.from_numpy(x_train[slce]))\n",
        "        \n",
        "        # Forward PASS\n",
        "        output = net(x_batch)\n",
        "        \n",
        "        # compute gradients given loss\n",
        "        target_batch = Variable(torch.from_numpy(targets_train[slce]).long())\n",
        "        \n",
        "        # calculat the loss\n",
        "        batch_loss = criterion(output, target_batch)\n",
        "        \n",
        "        optimizer.zero_grad()        \n",
        "        \n",
        "        # backpropogation \n",
        "        batch_loss.backward()\n",
        "        \n",
        "        # weight update \n",
        "        optimizer.step()\n",
        "        \n",
        "        cur_loss += batch_loss   \n",
        "        \n",
        "    losses.append(cur_loss / batch_size)\n",
        "    # Sets the module in evaluation mode.\n",
        "    net.eval()\n",
        "    \n",
        "    ### Evaluate training ERROR \n",
        "    train_preds, train_targs = [], []\n",
        "    \n",
        "    for i in range(num_batches_train):\n",
        "        slce = get_slice(i, batch_size)\n",
        "        x_batch = Variable(torch.from_numpy(x_train[slce]))\n",
        "        \n",
        "        output = net(x_batch)\n",
        "        preds = torch.max(output, 1)[1]\n",
        "        \n",
        "        train_targs += list(targets_train[slce])\n",
        "        train_preds += list(preds.data.numpy())\n",
        "    \n",
        "    ### Evaluate validation ERROR\n",
        "    val_preds, val_targs = [], []\n",
        "    \n",
        "    for i in range(num_batches_valid):\n",
        "        slce = get_slice(i, batch_size)\n",
        "        x_batch = Variable(torch.from_numpy(x_valid[slce]))\n",
        "        \n",
        "        output = net(x_batch)\n",
        "        preds = torch.max(output, 1)[1]\n",
        "        val_preds += list(preds.data.numpy())\n",
        "        val_targs += list(targets_valid[slce])\n",
        "\n",
        "    train_acc_cur = accuracy_score(train_targs, train_preds)\n",
        "    valid_acc_cur = accuracy_score(val_targs, val_preds)\n",
        "    \n",
        "    train_acc.append(train_acc_cur)\n",
        "    valid_acc.append(valid_acc_cur)\n",
        "    \n",
        "    if epoch % 10 == 0:\n",
        "        print(\"Epoch %2i : Train Loss %f , Train acc %f, Valid acc %f\" % (\n",
        "                epoch+1, losses[-1], train_acc_cur, valid_acc_cur))"
      ],
      "execution_count": 100,
      "outputs": [
        {
          "output_type": "stream",
          "text": [
            "Epoch  1 : Train Loss 0.228503 , Train acc 0.218000, Valid acc 0.226000\n",
            "Epoch 11 : Train Loss 0.184083 , Train acc 0.700000, Valid acc 0.652000\n",
            "Epoch 21 : Train Loss 0.168598 , Train acc 0.861000, Valid acc 0.770000\n",
            "Epoch 31 : Train Loss 0.163400 , Train acc 0.888000, Valid acc 0.794000\n",
            "Epoch 41 : Train Loss 0.160487 , Train acc 0.908000, Valid acc 0.818000\n",
            "Epoch 51 : Train Loss 0.158440 , Train acc 0.924000, Valid acc 0.822000\n",
            "Epoch 61 : Train Loss 0.156962 , Train acc 0.933000, Valid acc 0.828000\n",
            "Epoch 71 : Train Loss 0.155852 , Train acc 0.938000, Valid acc 0.826000\n",
            "Epoch 81 : Train Loss 0.154940 , Train acc 0.948000, Valid acc 0.830000\n",
            "Epoch 91 : Train Loss 0.154158 , Train acc 0.952000, Valid acc 0.834000\n"
          ],
          "name": "stdout"
        }
      ]
    },
    {
      "cell_type": "code",
      "metadata": {
        "id": "U_z65TmD7LR5",
        "colab_type": "code",
        "outputId": "d058b7d5-b9c1-4c1a-dd70-645653ab4a86",
        "colab": {
          "base_uri": "https://localhost:8080/",
          "height": 296
        }
      },
      "source": [
        "epoch = np.arange(len(train_acc))\n",
        "plt.figure()\n",
        "plt.plot(epoch, train_acc, 'r', epoch, valid_acc, 'b')\n",
        "plt.legend(['Train Accucary','Validation Accuracy'])\n",
        "plt.xlabel('Updates'), plt.ylabel('Acc')"
      ],
      "execution_count": 101,
      "outputs": [
        {
          "output_type": "execute_result",
          "data": {
            "text/plain": [
              "(Text(0.5, 0, 'Updates'), Text(0, 0.5, 'Acc'))"
            ]
          },
          "metadata": {
            "tags": []
          },
          "execution_count": 101
        },
        {
          "output_type": "display_data",
          "data": {
            "image/png": "[encoded data removed]",
            "text/plain": [
              "<Figure size 432x288 with 1 Axes>"
            ]
          },
          "metadata": {
            "tags": []
          }
        }
      ]
    },
    {
      "cell_type": "markdown",
      "metadata": {
        "id": "_TgmjkmG7LR6",
        "colab_type": "text"
      },
      "source": [
        "# Assignments\n",
        "\n",
        "Try and add these modifications (might require some Googleing -- an important skill in deep learning):\n",
        "- Kaiming He initialization instead of Xavier Glorot\n",
        "- add an extra layer\n",
        "- use the relu activation function\n",
        "- add momentum to the optimizer\n",
        "- use the ADAM optimizer instead of stochastic gradient descent\n",
        "\n",
        "### Advanced - Regularization\n",
        "\n",
        "Regularization is VERY important in practice and is used practically every time.\n",
        "Many important results are completely dependent on cleaver use of regularization, and it is something you need to become familiar with if you want to work with deep learning.\n",
        "\n",
        "- add L1 or L2 weight regularization (aka. weight decay) \n",
        "- add dropout to the network (**note** the `net.train()` and `net.eval()` are already in the code)\n",
        "- add batchnorm\n",
        "\n",
        "__Pointers on regularization hyperparameter:__\n",
        "1. L2 and [L1 regularization](http://pytorch.org/docs/master/nn.html#torch.nn.L1Loss) (weight decay of optimization functions) \n",
        "  - Normal ranges: 1e-4  -  1e-8\n",
        "1. [Dropout](http://pytorch.org/docs/master/nn.html?highlight=dropout#torch.nn.Dropout). Dropout rate 0.1-0.5\n",
        "  - Remember to pick the correct version according to the input dimensionality\n",
        "  - **NOTE** call `net.train()` before training to activate random dropout, and call `net.eval()` to deactivate dropout while validating or running inference with model.\n",
        "1. [Batchnorm](http://pytorch.org/docs/master/nn.html#torch.nn.BatchNorm1d): Batchnorm also acts as a regularizer - Often very useful (faster and better convergence)\n",
        "  - Remember to pick the correct version according to the input dimensionality\n",
        "  - **NOTE** call `net.train()` before training to activate, and call `net.eval()` to have a non-stochastic variant while validating or running inference with model.\n",
        "    "
      ]
    },
    {
      "cell_type": "code",
      "metadata": {
        "id": "jyYWm58h_sPw",
        "colab_type": "code",
        "colab": {}
      },
      "source": [
        "num_classes = 10\n",
        "num_l1 = num_l2 = 512\n",
        "num_features = x_train.shape[1]\n",
        "\n",
        "# define network\n",
        "class Net(nn.Module):\n",
        "\n",
        "    def __init__(self, num_features, num_hidden1, num_hidden2, num_output):\n",
        "        super(Net, self).__init__()  \n",
        "        # input layer\n",
        "        self.W_1 = Parameter(init.kaiming_normal_(torch.Tensor(num_hidden1, num_features)))\n",
        "        self.b_1 = Parameter(init.constant_(torch.Tensor(num_hidden1), 0))\n",
        "        self.batchnorm1 = nn.BatchNorm1d(num_hidden1)\n",
        "        \n",
        "        # hidden layers\n",
        "        self.W_2 = Parameter(init.kaiming_normal_(torch.Tensor(num_hidden2, num_hidden1)))\n",
        "        self.b_2 = Parameter(init.constant_(torch.Tensor(num_hidden2), 0))\n",
        "        self.batchnorm2 = nn.BatchNorm1d(num_hidden2)\n",
        "        self.W_3 = Parameter(init.kaiming_normal_(torch.Tensor(num_output, num_hidden2)))\n",
        "        self.b_3 = Parameter(init.constant_(torch.Tensor(num_output), 0))\n",
        "        self.dropout = torch.nn.Dropout() # default = 0.5\n",
        "        self.activation = torch.nn.ReLU()\n",
        "\n",
        "    def forward(self, x):\n",
        "        x = F.linear(x, self.W_1, self.b_1)     \n",
        "        x = self.batchnorm1(x)\n",
        "        x = self.activation(x)\n",
        "        x = self.dropout(x)\n",
        "        x = F.linear(x, self.W_2, self.b_2)\n",
        "        x = self.batchnorm2(x)\n",
        "        x = self.activation(x)\n",
        "        x = self.dropout(x)\n",
        "        \n",
        "        x = F.linear(x, self.W_3, self.b_3)\n",
        "        \n",
        "        return F.softmax(x, dim=1)"
      ],
      "execution_count": 0,
      "outputs": []
    },
    {
      "cell_type": "code",
      "metadata": {
        "id": "CyUzp4qR_yIQ",
        "colab_type": "code",
        "colab": {}
      },
      "source": [
        "net = Net(num_features, num_l1, num_l2, num_classes)\n",
        "optimizer = optim.Adam(net.parameters(), lr=1e-3, weight_decay=1e-5)\n",
        "criterion = nn.CrossEntropyLoss()"
      ],
      "execution_count": 0,
      "outputs": []
    },
    {
      "cell_type": "code",
      "metadata": {
        "id": "FPgYVFZL_39Q",
        "colab_type": "code",
        "colab": {}
      },
      "source": [
        "from sklearn.metrics import accuracy_score\n",
        "\n",
        "batch_size = 100\n",
        "num_epochs = 100\n",
        "num_samples_train = x_train.shape[0]\n",
        "num_batches_train = num_samples_train // batch_size\n",
        "num_samples_valid = x_valid.shape[0]\n",
        "num_batches_valid = num_samples_valid // batch_size\n",
        "\n",
        "train_acc, train_loss = [], []\n",
        "valid_acc, valid_loss = [], []\n",
        "test_acc, test_loss = [], []\n",
        "cur_loss = 0\n",
        "losses = []\n",
        "\n",
        "get_slice = lambda i, size: range(i * size, (i + 1) * size)"
      ],
      "execution_count": 0,
      "outputs": []
    },
    {
      "cell_type": "code",
      "metadata": {
        "id": "xoHfO09I_--y",
        "colab_type": "code",
        "colab": {
          "base_uri": "https://localhost:8080/",
          "height": 102
        },
        "outputId": "89e0bdf9-10c8-4903-9e7c-9fa043fbd78d"
      },
      "source": [
        "for epoch in range(num_epochs):\n",
        "   \n",
        "    cur_loss = 0\n",
        "    net.train()\n",
        "    \n",
        "    for i in range(num_batches_train):\n",
        "        \n",
        "        slce = get_slice(i, batch_size)\n",
        "        x_batch = Variable(torch.from_numpy(x_train[slce]))\n",
        "        \n",
        "        output = net(x_batch)\n",
        "\n",
        "        target_batch = Variable(torch.from_numpy(targets_train[slce]).long())\n",
        "\n",
        "        batch_loss = criterion(output, target_batch)\n",
        "        optimizer.zero_grad()        \n",
        "        batch_loss.backward()\n",
        "        optimizer.step()\n",
        "        \n",
        "        cur_loss += batch_loss   \n",
        "        \n",
        "    losses.append(cur_loss / batch_size)\n",
        "    # Sets the module in evaluation mode.\n",
        "    net.eval()\n",
        "\n",
        "    train_preds, train_targs = [], []\n",
        "    \n",
        "    for i in range(num_batches_train):\n",
        "        slce = get_slice(i, batch_size)\n",
        "        x_batch = Variable(torch.from_numpy(x_train[slce]))\n",
        "        \n",
        "        output = net(x_batch)\n",
        "        preds = torch.max(output, 1)[1]\n",
        "        \n",
        "        train_targs += list(targets_train[slce])\n",
        "        train_preds += list(preds.data.numpy())\n",
        "        \n",
        "    val_preds, val_targs = [], []\n",
        "    \n",
        "    for i in range(num_batches_valid):\n",
        "        slce = get_slice(i, batch_size)\n",
        "        x_batch = Variable(torch.from_numpy(x_valid[slce]))\n",
        "        \n",
        "        output = net(x_batch)\n",
        "        preds = torch.max(output, 1)[1]\n",
        "        val_preds += list(preds.data.numpy())\n",
        "        val_targs += list(targets_valid[slce])\n",
        "\n",
        "    train_acc_cur = accuracy_score(train_targs, train_preds)\n",
        "    valid_acc_cur = accuracy_score(val_targs, val_preds)\n",
        "    \n",
        "    train_acc.append(train_acc_cur)\n",
        "    valid_acc.append(valid_acc_cur)\n",
        "    \n",
        "    if epoch % 20 == 0:\n",
        "        print(\"Epoch %2i : Train Loss %f , Train acc %f, Valid acc %f\" % (\n",
        "                epoch+1, losses[-1], train_acc_cur, valid_acc_cur))"
      ],
      "execution_count": 105,
      "outputs": [
        {
          "output_type": "stream",
          "text": [
            "Epoch  1 : Train Loss 0.215379 , Train acc 0.706000, Valid acc 0.602000\n",
            "Epoch 21 : Train Loss 0.148758 , Train acc 0.987000, Valid acc 0.862000\n",
            "Epoch 41 : Train Loss 0.147460 , Train acc 0.990000, Valid acc 0.862000\n",
            "Epoch 61 : Train Loss 0.147242 , Train acc 0.991000, Valid acc 0.866000\n",
            "Epoch 81 : Train Loss 0.147117 , Train acc 0.992000, Valid acc 0.866000\n"
          ],
          "name": "stdout"
        }
      ]
    },
    {
      "cell_type": "code",
      "metadata": {
        "id": "Fgm5wo3xADLt",
        "colab_type": "code",
        "colab": {
          "base_uri": "https://localhost:8080/",
          "height": 296
        },
        "outputId": "ad812527-6d3a-4033-f9a9-365a0090a446"
      },
      "source": [
        "epoch = np.arange(len(train_acc))\n",
        "plt.figure()\n",
        "plt.plot(epoch, train_acc, 'r', epoch, valid_acc, 'b')\n",
        "plt.legend(['Train accucary','Validation accuracy'])\n",
        "plt.xlabel('Updates'), plt.ylabel('Acc')"
      ],
      "execution_count": 106,
      "outputs": [
        {
          "output_type": "execute_result",
          "data": {
            "text/plain": [
              "(Text(0.5, 0, 'Updates'), Text(0, 0.5, 'Acc'))"
            ]
          },
          "metadata": {
            "tags": []
          },
          "execution_count": 106
        },
        {
          "output_type": "display_data",
          "data": {
            "image/png": "[encoded data removed]",
            "text/plain": [
              "<Figure size 432x288 with 1 Axes>"
            ]
          },
          "metadata": {
            "tags": []
          }
        }
      ]
    },
    {
      "cell_type": "markdown",
      "metadata": {
        "id": "q0fQRjHx7LR6",
        "colab_type": "text"
      },
      "source": [
        "You are done for now. [Good job.](https://media1.tenor.com/images/0fd559b07f2174f9b8b7dbde7c5a67ca/tenor.gif)"
      ]
    }
  ]
}