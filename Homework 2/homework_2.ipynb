{
 "cells": [
  {
   "cell_type": "code",
   "execution_count": 2,
   "metadata": {},
   "outputs": [],
   "source": [
    "import matplotlib.pyplot as plt\n",
    "import numpy as np"
   ]
  },
  {
   "cell_type": "code",
   "execution_count": 3,
   "metadata": {},
   "outputs": [],
   "source": [
    "def generate_data(size):\n",
    "    d = 2\n",
    "    w = np.random.randint(1,10,d)\n",
    "    b = np.random.randint(1,10)\n",
    "    x = np.random.uniform(-1,1,(size,d))*10\n",
    "    y = np.zeros(20)\n",
    "    h = x.dot(w) + b\n",
    "    label = (h > 0)*1\n",
    "    flips = np.random.randint(size, size=10)\n",
    "    for i in flips:\n",
    "        if (label[i] == 1):\n",
    "            label[i] = 0\n",
    "        else:\n",
    "            label[i] = 1\n",
    "    y = label \n",
    "    return x, y, w, b, d"
   ]
  },
  {
   "cell_type": "code",
   "execution_count": 4,
   "metadata": {},
   "outputs": [],
   "source": [
    "class Pocket:\n",
    "    def __init__(self, w, b, d):\n",
    "        self.w = w\n",
    "        self.b = b\n",
    "        self.d = d\n",
    "        \n",
    "    def predict(self, x):\n",
    "        activ = np.sign(self.w_1[1:].dot(x.T) + self.w_1[0])\n",
    "        return activ\n",
    "    \n",
    "    def predict_pocket(self, x):\n",
    "        activ_pocket = np.sign(self.w_p[0] + self.w_p[1:].dot(x.T))\n",
    "        return activ_pocket\n",
    "\n",
    "    def fit(self, x_d, y_d, size=20, iters=1000):\n",
    "        self.w_1 = np.zeros(self.d+1)\n",
    "        self.iters = iters\n",
    "        \n",
    "        E_in_w = []\n",
    "        E_in_w_pocket = []\n",
    "        \n",
    "        error_count_w = 0\n",
    "        error_count_w_pocket = 1001 \n",
    "        for j in range(self.iters):\n",
    "            \n",
    "            error_count_w = 0\n",
    "            for i in range(x_d.shape[0]):\n",
    "                prediction = self.predict(x_d[i])\n",
    "                output = y_d[i]\n",
    "\n",
    "                if prediction == 0:\n",
    "                    prediction = -1\n",
    "                if output == 0:\n",
    "                    output = -1\n",
    "\n",
    "                if prediction != output:      \n",
    "                    error_count_w += 1\n",
    "                    self.w_1[1:] += output * x_d[i]\n",
    "                    self.w_1[0] += output\n",
    "                    \n",
    "            if error_count_w < error_count_w_pocket:\n",
    "                self.w_p = np.copy(self.w_1)\n",
    "                error_count_w_pocket = error_count_w\n",
    "\n",
    "            E_in_w.append(error_count_w)\n",
    "            E_in_w_pocket.append(error_count_w_pocket)\n",
    "            \n",
    "        return E_in_w, E_in_w_pocket\n",
    "    \n",
    "    def test(self, x_t, y_t):\n",
    "        E_out_w = []\n",
    "        E_out_w_pocket = []\n",
    "\n",
    "        error_count_w = 0\n",
    "        error_count_w_pocket = 0\n",
    "        \n",
    "        self.iters = 1000\n",
    "        \n",
    "        for j in range(self.iters):\n",
    "            \n",
    "            error_count_w = 0\n",
    "            error_count_w_pocket = 0\n",
    "            \n",
    "            for i in range(x_t.shape[0]):\n",
    "                output = y_t[i]\n",
    "                if output == 0:\n",
    "                    output = -1\n",
    "\n",
    "                prediction = self.predict(x_t[i])\n",
    "                prediction_pocket = self.predict_pocket(x_t[i])\n",
    "\n",
    "                if prediction == 0:\n",
    "                    prediction = -1\n",
    "                if prediction_pocket == 0:\n",
    "                    prediction_pocket = -1\n",
    "\n",
    "                if (prediction != output):\n",
    "                    error_count_w += 1\n",
    "                if (prediction_pocket != output):\n",
    "                    error_count_w_pocket += 1\n",
    "\n",
    "            E_out_w.append(error_count_w)\n",
    "            E_out_w_pocket.append(error_count_w_pocket)\n",
    "\n",
    "        return E_out_w, E_out_w_pocket"
   ]
  },
  {
   "cell_type": "code",
   "execution_count": 5,
   "metadata": {},
   "outputs": [
    {
     "name": "stdout",
     "output_type": "stream",
     "text": [
      "Getting average from 20 experiments\n",
      "[21, 23, 21, 24, 25, 23, 25, 22, 23, 22, 21, 22, 22, 21, 23, 26, 22, 22, 21, 22]\n",
      "[21, 21, 21, 21, 21, 21, 21, 21, 21, 21, 21, 21, 21, 21, 21, 21, 21, 21, 21, 21]\n",
      "\n",
      "[26, 23, 21, 25, 22, 21, 22, 23, 22, 25, 23, 22, 24, 25, 22, 21, 21, 24, 23, 22]\n",
      "[26, 23, 21, 21, 21, 21, 21, 21, 21, 21, 21, 21, 21, 21, 21, 21, 21, 21, 21, 21]\n",
      "\n",
      "[18, 18, 15, 20, 18, 21, 16, 18, 15, 21, 20, 18, 20, 20, 18, 19, 15, 20, 20, 18]\n",
      "[18, 18, 15, 15, 15, 15, 15, 15, 15, 15, 15, 15, 15, 15, 15, 15, 15, 15, 15, 15]\n",
      "\n",
      "[23, 25, 23, 24, 22, 25, 22, 24, 21, 26, 24, 22, 23, 21, 23, 24, 22, 21, 20, 24]\n",
      "[23, 23, 23, 23, 22, 22, 22, 22, 21, 21, 21, 21, 21, 21, 21, 21, 21, 21, 20, 20]\n",
      "\n",
      "[22, 20, 22, 16, 19, 21, 21, 21, 19, 20, 19, 17, 20, 21, 18, 20, 20, 22, 19, 20]\n",
      "[22, 20, 20, 16, 16, 16, 16, 16, 16, 16, 16, 16, 16, 16, 16, 16, 16, 16, 16, 16]\n",
      "\n",
      "[24, 21, 22, 21, 23, 21, 22, 21, 22, 23, 20, 21, 23, 23, 20, 22, 20, 22, 21, 21]\n",
      "[24, 21, 21, 21, 21, 21, 21, 21, 21, 21, 20, 20, 20, 20, 20, 20, 20, 20, 20, 20]\n",
      "\n",
      "[19, 18, 18, 16, 16, 19, 22, 17, 18, 17, 17, 23, 15, 20, 21, 16, 19, 18, 18, 16]\n",
      "[19, 18, 18, 16, 16, 16, 16, 16, 16, 16, 16, 16, 15, 15, 15, 15, 15, 15, 15, 15]\n",
      "\n",
      "[29, 25, 28, 29, 28, 30, 26, 30, 24, 26, 31, 28, 25, 25, 27, 25, 28, 25, 30, 26]\n",
      "[29, 25, 25, 25, 25, 25, 25, 25, 24, 24, 24, 24, 24, 24, 24, 24, 24, 24, 24, 24]\n",
      "\n",
      "[19, 24, 21, 21, 18, 22, 22, 17, 24, 23, 23, 23, 20, 21, 24, 21, 21, 23, 17, 21]\n",
      "[19, 19, 19, 19, 18, 18, 18, 17, 17, 17, 17, 17, 17, 17, 17, 17, 17, 17, 17, 17]\n",
      "\n",
      "[21, 20, 20, 20, 21, 22, 22, 16, 17, 15, 21, 19, 20, 21, 22, 22, 19, 16, 20, 20]\n",
      "[21, 20, 20, 20, 20, 20, 20, 16, 16, 15, 15, 15, 15, 15, 15, 15, 15, 15, 15, 15]\n",
      "\n",
      "Experiments are done successfully\n"
     ]
    }
   ],
   "source": [
    "E_ins = []\n",
    "E_ins_pocket = []\n",
    "E_outs = []\n",
    "E_outs_pocket = []\n",
    "\n",
    "print(\"Getting average from 20 experiments\")\n",
    "for iters in range(10):\n",
    "    training_inputs, training_outputs, w, b, d = generate_data(size=100)\n",
    "    pocket = Pocket(w, b, d)\n",
    "    #Training\n",
    "    #training_inputs, training_outputs, w, b, d = generate_data(size=100)\n",
    "    #testing_inputs, testing_outputs, w, b, d = generate_data(size=1000)\n",
    "    E_in_w, E_in_w_pocket = pocket.fit(training_inputs, training_outputs)     \n",
    "    E_ins.append(E_in_w)\n",
    "    E_ins_pocket.append(E_in_w_pocket)\n",
    "        \n",
    "    #Testing \n",
    "    testing_inputs, testing_outputs, w, b, d = generate_data(size=1000)\n",
    "    E_out_w, E_out_w_pocket = pocket.test(testing_inputs, testing_outputs)     \n",
    "    E_outs.append(E_out_w)\n",
    "    E_outs_pocket.append(E_out_w_pocket)\n",
    "    \n",
    "    print(E_in_w[:20])\n",
    "    print(E_in_w_pocket[:20])\n",
    "    print()\n",
    "    \n",
    "print(\"Experiments are done successfully\")"
   ]
  },
  {
   "cell_type": "code",
   "execution_count": 6,
   "metadata": {},
   "outputs": [],
   "source": [
    "def ave_err(errors):\n",
    "    average = [0] * len(errors[0]) \n",
    "    for i in range(len(errors)):\n",
    "        for j in range(len(errors[i])):\n",
    "            average[j] += errors[i][j]\n",
    "            \n",
    "    for j in range(len(average)):\n",
    "        average[j] = average[j] / 20\n",
    "    return average"
   ]
  },
  {
   "cell_type": "code",
   "execution_count": 7,
   "metadata": {},
   "outputs": [],
   "source": [
    "E_in_ave = ave_err(E_ins)\n",
    "E_in_pocket_ave = ave_err(E_ins_pocket)\n",
    "E_out_ave = ave_err(E_outs)\n",
    "E_out_pocket_ave = ave_err(E_outs_pocket)"
   ]
  },
  {
   "cell_type": "code",
   "execution_count": 8,
   "metadata": {},
   "outputs": [
    {
     "name": "stdout",
     "output_type": "stream",
     "text": [
      "Plotting E_int(w) and E_int(w*)\n"
     ]
    },
    {
     "data": {
      "text/plain": [
       "<matplotlib.legend.Legend at 0x11a9ae438>"
      ]
     },
     "execution_count": 8,
     "metadata": {},
     "output_type": "execute_result"
    },
    {
     "data": {
      "image/png": "[encoded data removed]",
      "text/plain": [
       "<Figure size 432x288 with 1 Axes>"
      ]
     },
     "metadata": {
      "needs_background": "light"
     },
     "output_type": "display_data"
    }
   ],
   "source": [
    "#Plotting E_in(w) and E_in(w*)\n",
    "print(\"Plotting E_int(w) and E_int(w*)\")\n",
    "plt.plot(list(range(1000)), E_in_ave, label='E_in(w)')\n",
    "plt.plot(list(range(1000)), E_in_pocket_ave, label='E_in(w*)')\n",
    "plt.ylabel('Error')\n",
    "plt.xlabel('Iterations')\n",
    "plt.title('Average of all experiments')\n",
    "plt.legend()"
   ]
  },
  {
   "cell_type": "code",
   "execution_count": 9,
   "metadata": {},
   "outputs": [
    {
     "name": "stdout",
     "output_type": "stream",
     "text": [
      "Plotting E_out(w) and E_out(w*)\n"
     ]
    },
    {
     "data": {
      "text/plain": [
       "<matplotlib.legend.Legend at 0x11ab57e10>"
      ]
     },
     "execution_count": 9,
     "metadata": {},
     "output_type": "execute_result"
    },
    {
     "data": {
      "image/png": "[encoded data removed]",
      "text/plain": [
       "<Figure size 432x288 with 1 Axes>"
      ]
     },
     "metadata": {
      "needs_background": "light"
     },
     "output_type": "display_data"
    }
   ],
   "source": [
    "#Plotting E_out(w) and E_out(w*)\n",
    "print(\"Plotting E_out(w) and E_out(w*)\")\n",
    "plt.plot(list(range(1000)), E_out_ave, label='E_out(w)')\n",
    "plt.plot(list(range(1000)), E_out_pocket_ave, label='E_out(w*)')\n",
    "plt.ylabel('Error')\n",
    "plt.xlabel('Iterations')\n",
    "plt.title('Average of all experiments')\n",
    "plt.legend()"
   ]
  },
  {
   "cell_type": "code",
   "execution_count": null,
   "metadata": {},
   "outputs": [],
   "source": []
  }
 ],
 "metadata": {
  "kernelspec": {
   "display_name": "Python 3",
   "language": "python",
   "name": "python3"
  },
  "language_info": {
   "codemirror_mode": {
    "name": "ipython",
    "version": 3
   },
   "file_extension": ".py",
   "mimetype": "text/x-python",
   "name": "python",
   "nbconvert_exporter": "python",
   "pygments_lexer": "ipython3",
   "version": "3.7.3"
  }
 },
 "nbformat": 4,
 "nbformat_minor": 2
}
